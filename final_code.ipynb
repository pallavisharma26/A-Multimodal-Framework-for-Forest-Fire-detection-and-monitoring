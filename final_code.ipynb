{
 "cells": [
  {
   "cell_type": "code",
   "execution_count": 1,
   "metadata": {
    "id": "It3gpYDqM2fp"
   },
   "outputs": [],
   "source": [
    "import pandas as pd\n",
    "import numpy as np\n",
    "import matplotlib.pyplot as plt\n",
    "data = pd.read_csv('C://Users//Pallavi//Desktop//Forest_Fire_Detection//final_code/p4ds.csv', sep = ',')"
   ]
  },
  {
   "cell_type": "code",
   "execution_count": 2,
   "metadata": {
    "colab": {
     "base_uri": "https://localhost:8080/",
     "height": 197
    },
    "id": "bX4k2qNLM8Cd",
    "outputId": "f7d23ea8-e3ee-4b20-abff-b88dad10bc5f"
   },
   "outputs": [
    {
     "data": {
      "text/html": [
       "<div>\n",
       "<style scoped>\n",
       "    .dataframe tbody tr th:only-of-type {\n",
       "        vertical-align: middle;\n",
       "    }\n",
       "\n",
       "    .dataframe tbody tr th {\n",
       "        vertical-align: top;\n",
       "    }\n",
       "\n",
       "    .dataframe thead th {\n",
       "        text-align: right;\n",
       "    }\n",
       "</style>\n",
       "<table border=\"1\" class=\"dataframe\">\n",
       "  <thead>\n",
       "    <tr style=\"text-align: right;\">\n",
       "      <th></th>\n",
       "      <th>S.No.</th>\n",
       "      <th>FFMC</th>\n",
       "      <th>DMC</th>\n",
       "      <th>DC</th>\n",
       "      <th>ISI</th>\n",
       "      <th>temp</th>\n",
       "      <th>RH</th>\n",
       "      <th>wind</th>\n",
       "      <th>rain</th>\n",
       "      <th>area</th>\n",
       "      <th>label</th>\n",
       "      <th>Unnamed: 11</th>\n",
       "      <th>Image</th>\n",
       "    </tr>\n",
       "  </thead>\n",
       "  <tbody>\n",
       "    <tr>\n",
       "      <th>0</th>\n",
       "      <td>1</td>\n",
       "      <td>86.2</td>\n",
       "      <td>26.2</td>\n",
       "      <td>94.3</td>\n",
       "      <td>5.1</td>\n",
       "      <td>8.2</td>\n",
       "      <td>51</td>\n",
       "      <td>6.7</td>\n",
       "      <td>0.0</td>\n",
       "      <td>0.0</td>\n",
       "      <td>1</td>\n",
       "      <td>NaN</td>\n",
       "      <td>fire.1</td>\n",
       "    </tr>\n",
       "    <tr>\n",
       "      <th>1</th>\n",
       "      <td>2</td>\n",
       "      <td>90.6</td>\n",
       "      <td>35.4</td>\n",
       "      <td>669.1</td>\n",
       "      <td>6.7</td>\n",
       "      <td>18.0</td>\n",
       "      <td>33</td>\n",
       "      <td>0.9</td>\n",
       "      <td>0.0</td>\n",
       "      <td>0.0</td>\n",
       "      <td>0</td>\n",
       "      <td>NaN</td>\n",
       "      <td>non_fire.1</td>\n",
       "    </tr>\n",
       "    <tr>\n",
       "      <th>2</th>\n",
       "      <td>3</td>\n",
       "      <td>90.6</td>\n",
       "      <td>43.7</td>\n",
       "      <td>686.9</td>\n",
       "      <td>6.7</td>\n",
       "      <td>14.6</td>\n",
       "      <td>33</td>\n",
       "      <td>1.3</td>\n",
       "      <td>0.0</td>\n",
       "      <td>0.0</td>\n",
       "      <td>0</td>\n",
       "      <td>NaN</td>\n",
       "      <td>non_fire.2</td>\n",
       "    </tr>\n",
       "    <tr>\n",
       "      <th>3</th>\n",
       "      <td>4</td>\n",
       "      <td>91.7</td>\n",
       "      <td>33.3</td>\n",
       "      <td>77.5</td>\n",
       "      <td>9.0</td>\n",
       "      <td>8.3</td>\n",
       "      <td>97</td>\n",
       "      <td>4.0</td>\n",
       "      <td>0.2</td>\n",
       "      <td>0.0</td>\n",
       "      <td>1</td>\n",
       "      <td>NaN</td>\n",
       "      <td>fire.2</td>\n",
       "    </tr>\n",
       "    <tr>\n",
       "      <th>4</th>\n",
       "      <td>5</td>\n",
       "      <td>89.3</td>\n",
       "      <td>51.3</td>\n",
       "      <td>102.2</td>\n",
       "      <td>9.6</td>\n",
       "      <td>11.4</td>\n",
       "      <td>99</td>\n",
       "      <td>1.8</td>\n",
       "      <td>0.0</td>\n",
       "      <td>0.0</td>\n",
       "      <td>1</td>\n",
       "      <td>NaN</td>\n",
       "      <td>fire.5</td>\n",
       "    </tr>\n",
       "  </tbody>\n",
       "</table>\n",
       "</div>"
      ],
      "text/plain": [
       "   S.No.  FFMC   DMC     DC  ISI  temp  RH  wind  rain  area  label  \\\n",
       "0      1  86.2  26.2   94.3  5.1   8.2  51   6.7   0.0   0.0      1   \n",
       "1      2  90.6  35.4  669.1  6.7  18.0  33   0.9   0.0   0.0      0   \n",
       "2      3  90.6  43.7  686.9  6.7  14.6  33   1.3   0.0   0.0      0   \n",
       "3      4  91.7  33.3   77.5  9.0   8.3  97   4.0   0.2   0.0      1   \n",
       "4      5  89.3  51.3  102.2  9.6  11.4  99   1.8   0.0   0.0      1   \n",
       "\n",
       "   Unnamed: 11       Image  \n",
       "0          NaN      fire.1  \n",
       "1          NaN  non_fire.1  \n",
       "2          NaN  non_fire.2  \n",
       "3          NaN      fire.2  \n",
       "4          NaN      fire.5  "
      ]
     },
     "execution_count": 2,
     "metadata": {},
     "output_type": "execute_result"
    }
   ],
   "source": [
    "data.head()"
   ]
  },
  {
   "cell_type": "code",
   "execution_count": 3,
   "metadata": {
    "id": "46kxViMw_VIH"
   },
   "outputs": [],
   "source": [
    "sensor_data = data[['FFMC','DMC','DC','ISI','temp','RH','wind','rain','area']]"
   ]
  },
  {
   "cell_type": "code",
   "execution_count": 4,
   "metadata": {
    "id": "7k2-gdjC_J1o"
   },
   "outputs": [],
   "source": [
    "label =  data[['label']]\n"
   ]
  },
  {
   "cell_type": "code",
   "execution_count": 5,
   "metadata": {
    "id": "vVOCNG-iAlra"
   },
   "outputs": [],
   "source": [
    "from sklearn.model_selection import train_test_split\n",
    "x_train_s, x_test_s, x_train_img, x_test_img, y_train_l, y_test_l =  train_test_split(sensor_data, data['Image'], label, test_size = 0.3, random_state = 42)"
   ]
  },
  {
   "cell_type": "code",
   "execution_count": 6,
   "metadata": {
    "colab": {
     "base_uri": "https://localhost:8080/"
    },
    "id": "kkVom7jfAdha",
    "outputId": "7d559ab7-d647-45f2-acfb-f4de25b3cc2f"
   },
   "outputs": [
    {
     "name": "stdout",
     "output_type": "stream",
     "text": [
      "[0 1 2]\n"
     ]
    },
    {
     "name": "stderr",
     "output_type": "stream",
     "text": [
      "C:\\Users\\Pallavi\\anaconda3\\lib\\site-packages\\sklearn\\utils\\validation.py:63: DataConversionWarning: A column-vector y was passed when a 1d array was expected. Please change the shape of y to (n_samples, ), for example using ravel().\n",
      "  return f(*args, **kwargs)\n"
     ]
    }
   ],
   "source": [
    "from sklearn import preprocessing\n",
    "le =  preprocessing.LabelEncoder()\n",
    "le.fit(label)\n",
    "print(le.classes_)"
   ]
  },
  {
   "cell_type": "code",
   "execution_count": 7,
   "metadata": {
    "colab": {
     "base_uri": "https://localhost:8080/"
    },
    "id": "lnd4lGnDAO1O",
    "outputId": "2e65377e-4005-411e-b5b7-6a9b850aae7e"
   },
   "outputs": [
    {
     "name": "stderr",
     "output_type": "stream",
     "text": [
      "C:\\Users\\Pallavi\\anaconda3\\lib\\site-packages\\sklearn\\utils\\validation.py:63: DataConversionWarning: A column-vector y was passed when a 1d array was expected. Please change the shape of y to (n_samples, ), for example using ravel().\n",
      "  return f(*args, **kwargs)\n"
     ]
    }
   ],
   "source": [
    "\n",
    "from tensorflow.keras.utils import to_categorical\n",
    "\n",
    "y_train_index = le.transform(y_train_l)\n",
    "y_test_index = le.transform(y_test_l)\n",
    "\n",
    "y_train_final  =  to_categorical(y_train_index)\n",
    "y_test_final  =  to_categorical(y_test_index)"
   ]
  },
  {
   "cell_type": "code",
   "execution_count": 8,
   "metadata": {
    "colab": {
     "base_uri": "https://localhost:8080/"
    },
    "id": "2uNTnngSASnT",
    "outputId": "ab25563b-6726-4284-9b57-a9ccddb833bf"
   },
   "outputs": [
    {
     "data": {
      "text/plain": [
       "array([[0., 0., 1.],\n",
       "       [0., 0., 1.],\n",
       "       [1., 0., 0.],\n",
       "       ...,\n",
       "       [1., 0., 0.],\n",
       "       [0., 1., 0.],\n",
       "       [1., 0., 0.]], dtype=float32)"
      ]
     },
     "execution_count": 8,
     "metadata": {},
     "output_type": "execute_result"
    }
   ],
   "source": [
    "y_train_final"
   ]
  },
  {
   "cell_type": "code",
   "execution_count": 9,
   "metadata": {
    "colab": {
     "base_uri": "https://localhost:8080/"
    },
    "id": "Tcz804CiBSux",
    "outputId": "ca84f746-21f0-42f5-e365-1da179b641e8"
   },
   "outputs": [
    {
     "data": {
      "text/plain": [
       "(361, 9)"
      ]
     },
     "execution_count": 9,
     "metadata": {},
     "output_type": "execute_result"
    }
   ],
   "source": [
    "x_train_s.shape"
   ]
  },
  {
   "cell_type": "code",
   "execution_count": 10,
   "metadata": {
    "colab": {
     "base_uri": "https://localhost:8080/"
    },
    "id": "HD3cdT-YASpj",
    "outputId": "b3ceaba7-38a7-4a2c-e4a9-a88cc05b432c"
   },
   "outputs": [
    {
     "name": "stdout",
     "output_type": "stream",
     "text": [
      "Model: \"model\"\n",
      "_________________________________________________________________\n",
      "Layer (type)                 Output Shape              Param #   \n",
      "=================================================================\n",
      "input_1 (InputLayer)         [(None, 9)]               0         \n",
      "_________________________________________________________________\n",
      "dense (Dense)                (None, 128)               1280      \n",
      "_________________________________________________________________\n",
      "dense_1 (Dense)              (None, 64)                8256      \n",
      "_________________________________________________________________\n",
      "dense_2 (Dense)              (None, 3)                 195       \n",
      "=================================================================\n",
      "Total params: 9,731\n",
      "Trainable params: 9,731\n",
      "Non-trainable params: 0\n",
      "_________________________________________________________________\n"
     ]
    }
   ],
   "source": [
    "from keras.models import Sequential, Model\n",
    "from keras.layers import Dense\n",
    "from keras.layers import Input\n",
    "\n",
    "sequence_input = Input(shape=(9,), dtype='int32') \n",
    "Dense1_s = Dense(128, activation='relu', input_dim =x_train_s.shape[1] )(sequence_input)\n",
    "Dense2_s = Dense(64, activation='relu')(Dense1_s)\n",
    "\n",
    "output_s = Dense(3, activation='softmax')(Dense2_s)\n",
    "model_sensor = Model(inputs = sequence_input, outputs = output_s)\n",
    "model_sensor.summary()\n"
   ]
  },
  {
   "cell_type": "code",
   "execution_count": 11,
   "metadata": {
    "id": "A09t7kTiBVh-"
   },
   "outputs": [],
   "source": [
    "model_sensor.compile(optimizer = 'Adam', loss = 'categorical_crossentropy', metrics=['accuracy'])"
   ]
  },
  {
   "cell_type": "code",
   "execution_count": 12,
   "metadata": {
    "colab": {
     "base_uri": "https://localhost:8080/"
    },
    "id": "T6bNToxiBZ2y",
    "outputId": "3a3a4f71-cc06-4f74-b331-4a97eb9bd449",
    "scrolled": true
   },
   "outputs": [
    {
     "name": "stdout",
     "output_type": "stream",
     "text": [
      "Epoch 1/80\n",
      "12/12 - 1s - loss: 9.4878 - accuracy: 0.4571 - val_loss: 5.8992 - val_accuracy: 0.5256\n",
      "Epoch 2/80\n",
      "12/12 - 0s - loss: 4.1189 - accuracy: 0.6039 - val_loss: 3.1983 - val_accuracy: 0.5449\n",
      "Epoch 3/80\n",
      "12/12 - 0s - loss: 2.1311 - accuracy: 0.6510 - val_loss: 1.3833 - val_accuracy: 0.6410\n",
      "Epoch 4/80\n",
      "12/12 - 0s - loss: 1.3010 - accuracy: 0.6676 - val_loss: 0.9872 - val_accuracy: 0.7115\n",
      "Epoch 5/80\n",
      "12/12 - 0s - loss: 0.7619 - accuracy: 0.6870 - val_loss: 0.7287 - val_accuracy: 0.6987\n",
      "Epoch 6/80\n",
      "12/12 - 0s - loss: 0.6730 - accuracy: 0.7147 - val_loss: 0.8703 - val_accuracy: 0.6090\n",
      "Epoch 7/80\n",
      "12/12 - 0s - loss: 0.6335 - accuracy: 0.7258 - val_loss: 0.6150 - val_accuracy: 0.6603\n",
      "Epoch 8/80\n",
      "12/12 - 0s - loss: 0.6103 - accuracy: 0.7175 - val_loss: 0.6583 - val_accuracy: 0.6538\n",
      "Epoch 9/80\n",
      "12/12 - 0s - loss: 0.6541 - accuracy: 0.7064 - val_loss: 0.5510 - val_accuracy: 0.7372\n",
      "Epoch 10/80\n",
      "12/12 - 0s - loss: 0.5054 - accuracy: 0.7618 - val_loss: 0.9690 - val_accuracy: 0.5641\n",
      "Epoch 11/80\n",
      "12/12 - 0s - loss: 0.7889 - accuracy: 0.6953 - val_loss: 1.0894 - val_accuracy: 0.5577\n",
      "Epoch 12/80\n",
      "12/12 - 0s - loss: 0.5518 - accuracy: 0.7341 - val_loss: 0.7731 - val_accuracy: 0.7051\n",
      "Epoch 13/80\n",
      "12/12 - 0s - loss: 0.5514 - accuracy: 0.7756 - val_loss: 0.5955 - val_accuracy: 0.7308\n",
      "Epoch 14/80\n",
      "12/12 - 0s - loss: 0.5879 - accuracy: 0.7341 - val_loss: 0.3809 - val_accuracy: 0.8141\n",
      "Epoch 15/80\n",
      "12/12 - 0s - loss: 0.7725 - accuracy: 0.7008 - val_loss: 0.3878 - val_accuracy: 0.8205\n",
      "Epoch 16/80\n",
      "12/12 - 0s - loss: 0.4859 - accuracy: 0.7673 - val_loss: 0.6392 - val_accuracy: 0.7372\n",
      "Epoch 17/80\n",
      "12/12 - 0s - loss: 0.7226 - accuracy: 0.7313 - val_loss: 0.4805 - val_accuracy: 0.7564\n",
      "Epoch 18/80\n",
      "12/12 - 0s - loss: 0.5689 - accuracy: 0.7258 - val_loss: 0.3641 - val_accuracy: 0.8141\n",
      "Epoch 19/80\n",
      "12/12 - 0s - loss: 0.4108 - accuracy: 0.7950 - val_loss: 0.4385 - val_accuracy: 0.7885\n",
      "Epoch 20/80\n",
      "12/12 - 0s - loss: 0.5943 - accuracy: 0.7396 - val_loss: 0.8248 - val_accuracy: 0.7244\n",
      "Epoch 21/80\n",
      "12/12 - 0s - loss: 0.7765 - accuracy: 0.7313 - val_loss: 0.3785 - val_accuracy: 0.8269\n",
      "Epoch 22/80\n",
      "12/12 - 0s - loss: 0.4072 - accuracy: 0.8116 - val_loss: 0.3325 - val_accuracy: 0.8718\n",
      "Epoch 23/80\n",
      "12/12 - 0s - loss: 0.3856 - accuracy: 0.8338 - val_loss: 0.8522 - val_accuracy: 0.7308\n",
      "Epoch 24/80\n",
      "12/12 - 0s - loss: 0.6125 - accuracy: 0.7368 - val_loss: 2.3097 - val_accuracy: 0.6603\n",
      "Epoch 25/80\n",
      "12/12 - 0s - loss: 1.4533 - accuracy: 0.6842 - val_loss: 0.8940 - val_accuracy: 0.5833\n",
      "Epoch 26/80\n",
      "12/12 - 0s - loss: 0.7403 - accuracy: 0.7313 - val_loss: 1.3078 - val_accuracy: 0.5833\n",
      "Epoch 27/80\n",
      "12/12 - 0s - loss: 0.6104 - accuracy: 0.7535 - val_loss: 0.3232 - val_accuracy: 0.8718\n",
      "Epoch 28/80\n",
      "12/12 - 0s - loss: 0.5528 - accuracy: 0.7839 - val_loss: 0.4366 - val_accuracy: 0.7885\n",
      "Epoch 29/80\n",
      "12/12 - 0s - loss: 0.4980 - accuracy: 0.7812 - val_loss: 0.9515 - val_accuracy: 0.5833\n",
      "Epoch 30/80\n",
      "12/12 - 0s - loss: 0.4803 - accuracy: 0.7645 - val_loss: 0.7023 - val_accuracy: 0.6282\n",
      "Epoch 31/80\n",
      "12/12 - 0s - loss: 0.5494 - accuracy: 0.7424 - val_loss: 0.6423 - val_accuracy: 0.6218\n",
      "Epoch 32/80\n",
      "12/12 - 0s - loss: 0.5215 - accuracy: 0.7701 - val_loss: 1.1891 - val_accuracy: 0.5705\n",
      "Epoch 33/80\n",
      "12/12 - 0s - loss: 0.5170 - accuracy: 0.7645 - val_loss: 0.4352 - val_accuracy: 0.7564\n",
      "Epoch 34/80\n",
      "12/12 - 0s - loss: 0.5276 - accuracy: 0.7535 - val_loss: 1.1535 - val_accuracy: 0.5705\n",
      "Epoch 35/80\n",
      "12/12 - 0s - loss: 0.7592 - accuracy: 0.7396 - val_loss: 0.9437 - val_accuracy: 0.5897\n",
      "Epoch 36/80\n",
      "12/12 - 0s - loss: 0.5294 - accuracy: 0.7839 - val_loss: 0.3187 - val_accuracy: 0.8462\n",
      "Epoch 37/80\n",
      "12/12 - 0s - loss: 0.3440 - accuracy: 0.8532 - val_loss: 0.2725 - val_accuracy: 0.8590\n",
      "Epoch 38/80\n",
      "12/12 - 0s - loss: 0.2920 - accuracy: 0.8864 - val_loss: 0.2978 - val_accuracy: 0.8846\n",
      "Epoch 39/80\n",
      "12/12 - 0s - loss: 0.2836 - accuracy: 0.8864 - val_loss: 0.2711 - val_accuracy: 0.8590\n",
      "Epoch 40/80\n",
      "12/12 - 0s - loss: 0.2711 - accuracy: 0.8892 - val_loss: 0.2500 - val_accuracy: 0.8974\n",
      "Epoch 41/80\n",
      "12/12 - 0s - loss: 0.3192 - accuracy: 0.8837 - val_loss: 0.2541 - val_accuracy: 0.8910\n",
      "Epoch 42/80\n",
      "12/12 - 0s - loss: 0.3010 - accuracy: 0.8643 - val_loss: 0.2416 - val_accuracy: 0.8974\n",
      "Epoch 43/80\n",
      "12/12 - 0s - loss: 0.3192 - accuracy: 0.8338 - val_loss: 0.7293 - val_accuracy: 0.6154\n",
      "Epoch 44/80\n",
      "12/12 - 0s - loss: 0.6680 - accuracy: 0.7729 - val_loss: 0.6890 - val_accuracy: 0.6346\n",
      "Epoch 45/80\n",
      "12/12 - 0s - loss: 0.5720 - accuracy: 0.7867 - val_loss: 0.5862 - val_accuracy: 0.6923\n",
      "Epoch 46/80\n",
      "12/12 - 0s - loss: 0.5380 - accuracy: 0.7839 - val_loss: 1.3817 - val_accuracy: 0.7115\n",
      "Epoch 47/80\n",
      "12/12 - 0s - loss: 0.5220 - accuracy: 0.7839 - val_loss: 1.0197 - val_accuracy: 0.7692\n",
      "Epoch 48/80\n",
      "12/12 - 0s - loss: 0.7482 - accuracy: 0.7341 - val_loss: 0.9993 - val_accuracy: 0.7564\n",
      "Epoch 49/80\n",
      "12/12 - 0s - loss: 1.2080 - accuracy: 0.7258 - val_loss: 1.0726 - val_accuracy: 0.6026\n",
      "Epoch 50/80\n",
      "12/12 - 0s - loss: 0.7525 - accuracy: 0.7507 - val_loss: 0.2885 - val_accuracy: 0.8654\n",
      "Epoch 51/80\n",
      "12/12 - 0s - loss: 0.3673 - accuracy: 0.8393 - val_loss: 0.3773 - val_accuracy: 0.8654\n",
      "Epoch 52/80\n",
      "12/12 - 0s - loss: 0.2910 - accuracy: 0.8809 - val_loss: 0.3821 - val_accuracy: 0.8333\n",
      "Epoch 53/80\n",
      "12/12 - 0s - loss: 0.3232 - accuracy: 0.8283 - val_loss: 0.8049 - val_accuracy: 0.7628\n",
      "Epoch 54/80\n",
      "12/12 - 0s - loss: 0.4578 - accuracy: 0.8283 - val_loss: 0.3319 - val_accuracy: 0.8846\n",
      "Epoch 55/80\n",
      "12/12 - 0s - loss: 0.3144 - accuracy: 0.8753 - val_loss: 0.3498 - val_accuracy: 0.8718\n",
      "Epoch 56/80\n",
      "12/12 - 0s - loss: 0.2723 - accuracy: 0.8809 - val_loss: 0.7277 - val_accuracy: 0.6731\n",
      "Epoch 57/80\n",
      "12/12 - 0s - loss: 0.4097 - accuracy: 0.8255 - val_loss: 0.3243 - val_accuracy: 0.8654\n",
      "Epoch 58/80\n",
      "12/12 - 0s - loss: 0.2460 - accuracy: 0.8975 - val_loss: 0.4239 - val_accuracy: 0.8205\n",
      "Epoch 59/80\n",
      "12/12 - 0s - loss: 0.2708 - accuracy: 0.8864 - val_loss: 0.2683 - val_accuracy: 0.8846\n",
      "Epoch 60/80\n",
      "12/12 - 0s - loss: 0.2683 - accuracy: 0.8753 - val_loss: 0.4647 - val_accuracy: 0.7821\n",
      "Epoch 61/80\n",
      "12/12 - 0s - loss: 0.6762 - accuracy: 0.7479 - val_loss: 0.4573 - val_accuracy: 0.7821\n",
      "Epoch 62/80\n",
      "12/12 - 0s - loss: 0.6440 - accuracy: 0.7618 - val_loss: 0.6780 - val_accuracy: 0.7821\n",
      "Epoch 63/80\n",
      "12/12 - 0s - loss: 0.6671 - accuracy: 0.7452 - val_loss: 1.1125 - val_accuracy: 0.7244\n",
      "Epoch 64/80\n",
      "12/12 - 0s - loss: 0.7690 - accuracy: 0.7590 - val_loss: 0.2307 - val_accuracy: 0.8782\n",
      "Epoch 65/80\n",
      "12/12 - 0s - loss: 0.5718 - accuracy: 0.7978 - val_loss: 1.3676 - val_accuracy: 0.5705\n",
      "Epoch 66/80\n",
      "12/12 - 0s - loss: 0.5096 - accuracy: 0.7922 - val_loss: 0.3153 - val_accuracy: 0.8526\n",
      "Epoch 67/80\n",
      "12/12 - 0s - loss: 0.3766 - accuracy: 0.8338 - val_loss: 0.2374 - val_accuracy: 0.8974\n",
      "Epoch 68/80\n",
      "12/12 - 0s - loss: 0.4139 - accuracy: 0.8172 - val_loss: 0.5300 - val_accuracy: 0.7372\n",
      "Epoch 69/80\n",
      "12/12 - 0s - loss: 0.3111 - accuracy: 0.8643 - val_loss: 0.2600 - val_accuracy: 0.8718\n",
      "Epoch 70/80\n",
      "12/12 - 0s - loss: 0.3116 - accuracy: 0.8615 - val_loss: 0.4182 - val_accuracy: 0.8141\n",
      "Epoch 71/80\n",
      "12/12 - 0s - loss: 0.3604 - accuracy: 0.8449 - val_loss: 1.0157 - val_accuracy: 0.5833\n",
      "Epoch 72/80\n",
      "12/12 - 0s - loss: 0.3603 - accuracy: 0.8449 - val_loss: 0.4482 - val_accuracy: 0.8526\n",
      "Epoch 73/80\n",
      "12/12 - 0s - loss: 0.2431 - accuracy: 0.9003 - val_loss: 0.4047 - val_accuracy: 0.8526\n",
      "Epoch 74/80\n",
      "12/12 - 0s - loss: 0.2716 - accuracy: 0.8809 - val_loss: 0.4044 - val_accuracy: 0.8397\n",
      "Epoch 75/80\n",
      "12/12 - 0s - loss: 0.2504 - accuracy: 0.9086 - val_loss: 0.3325 - val_accuracy: 0.9038\n",
      "Epoch 76/80\n",
      "12/12 - 0s - loss: 0.2542 - accuracy: 0.8809 - val_loss: 0.5352 - val_accuracy: 0.8269\n",
      "Epoch 77/80\n",
      "12/12 - 0s - loss: 0.2869 - accuracy: 0.8726 - val_loss: 0.3740 - val_accuracy: 0.9038\n",
      "Epoch 78/80\n",
      "12/12 - 0s - loss: 0.2450 - accuracy: 0.8837 - val_loss: 0.3338 - val_accuracy: 0.8590\n",
      "Epoch 79/80\n",
      "12/12 - 0s - loss: 0.2269 - accuracy: 0.9003 - val_loss: 0.3918 - val_accuracy: 0.8462\n",
      "Epoch 80/80\n",
      "12/12 - 0s - loss: 0.2825 - accuracy: 0.8698 - val_loss: 0.3938 - val_accuracy: 0.8910\n"
     ]
    }
   ],
   "source": [
    "imgModel = model_sensor.fit(x_train_s,y_train_final, validation_data=(x_test_s,y_test_final), epochs= 80, verbose= 2)"
   ]
  },
  {
   "cell_type": "code",
   "execution_count": 13,
   "metadata": {
    "scrolled": true
   },
   "outputs": [
    {
     "data": {
      "image/png": "[encoded data removed]",
      "text/plain": [
       "<Figure size 432x288 with 1 Axes>"
      ]
     },
     "metadata": {
      "needs_background": "light"
     },
     "output_type": "display_data"
    }
   ],
   "source": [
    "from keras.models import Sequential\n",
    "train_loss = imgModel.history['loss']\n",
    "val_loss   = imgModel.history['val_loss']\n",
    "train_acc  = imgModel.history['accuracy']\n",
    "val_acc    = imgModel.history['val_accuracy']\n",
    "xc         = range(80)\n",
    "\n",
    "plt.plot(xc, train_loss, label = \"Traning Loss\")\n",
    "plt.plot(xc, val_loss,label=\"Validation Loss\")\n",
    "plt.xlabel('No. of epochs')\n",
    "plt.xlabel('Loss')\n",
    "\n",
    "plt.legend()\n",
    "plt.savefig('imgloss.png')\n",
    "\n",
    "plt.show()\n"
   ]
  },
  {
   "cell_type": "code",
   "execution_count": 14,
   "metadata": {},
   "outputs": [],
   "source": [
    "y_pred = model_sensor.predict(x_test_s)"
   ]
  },
  {
   "cell_type": "code",
   "execution_count": 15,
   "metadata": {},
   "outputs": [],
   "source": [
    "y_classes_act = [np.argmax(y, axis=None, out=None) for y in y_test_final]\n",
    "y_classes_pred = [np.argmax(y, axis=None, out=None) for y in y_pred]"
   ]
  },
  {
   "cell_type": "code",
   "execution_count": 16,
   "metadata": {},
   "outputs": [],
   "source": [
    "# y_classes_pred"
   ]
  },
  {
   "cell_type": "code",
   "execution_count": 17,
   "metadata": {},
   "outputs": [
    {
     "data": {
      "image/png": "[encoded data removed]",
      "text/plain": [
       "<Figure size 432x288 with 1 Axes>"
      ]
     },
     "metadata": {
      "needs_background": "light"
     },
     "output_type": "display_data"
    }
   ],
   "source": [
    "from keras.models import Sequential\n",
    "train_loss = imgModel.history['loss']\n",
    "val_loss   = imgModel.history['val_loss']\n",
    "train_acc  = imgModel.history['accuracy']\n",
    "val_acc    = imgModel.history['val_accuracy']\n",
    "xc         = range(80)\n",
    "\n",
    "plt.plot(xc, train_acc, label = \"Traning Accuracy\")\n",
    "plt.plot(xc, val_acc,label=\"Validation Accuracy\")\n",
    "plt.xlabel('No. of epochs')\n",
    "plt.ylabel('Loss')\n",
    "plt.legend()\n",
    "plt.savefig('imgacc.png')\n",
    "\n",
    "plt.show()\n"
   ]
  },
  {
   "cell_type": "code",
   "execution_count": 18,
   "metadata": {},
   "outputs": [
    {
     "data": {
      "text/plain": [
       "array([[68,  0,  1],\n",
       "       [ 1, 33,  0],\n",
       "       [15,  0, 38]], dtype=int64)"
      ]
     },
     "execution_count": 18,
     "metadata": {},
     "output_type": "execute_result"
    }
   ],
   "source": [
    "# Importing the dependancies\n",
    "from sklearn.metrics import classification_report, confusion_matrix\n",
    "\n",
    "\n",
    "confusion_matrix(y_classes_act, y_classes_pred)"
   ]
  },
  {
   "cell_type": "code",
   "execution_count": 19,
   "metadata": {},
   "outputs": [
    {
     "data": {
      "text/plain": [
       "0.9279609279609279"
      ]
     },
     "execution_count": 19,
     "metadata": {},
     "output_type": "execute_result"
    }
   ],
   "source": [
    "from sklearn.metrics import precision_score, recall_score,f1_score\n",
    "\n",
    "precision_score(y_classes_act, y_classes_pred, average='macro')                          \n",
    "                    "
   ]
  },
  {
   "cell_type": "code",
   "execution_count": 20,
   "metadata": {},
   "outputs": [
    {
     "data": {
      "text/plain": [
       "0.9000168240920998"
      ]
     },
     "execution_count": 20,
     "metadata": {},
     "output_type": "execute_result"
    }
   ],
   "source": [
    "f1_score(y_classes_act, y_classes_pred, average='macro')                      "
   ]
  },
  {
   "cell_type": "code",
   "execution_count": 21,
   "metadata": {},
   "outputs": [
    {
     "data": {
      "text/plain": [
       "0.8910255379154669"
      ]
     },
     "execution_count": 21,
     "metadata": {},
     "output_type": "execute_result"
    }
   ],
   "source": [
    "recall_score(y_classes_act, y_classes_pred, average='macro')          "
   ]
  },
  {
   "cell_type": "code",
   "execution_count": 23,
   "metadata": {},
   "outputs": [
    {
     "data": {
      "text/plain": [
       "311         fire.15\n",
       "368        fire.113\n",
       "23      non_fire.17\n",
       "271    non_fire.206\n",
       "299        fire.185\n",
       "Name: Image, dtype: object"
      ]
     },
     "execution_count": 23,
     "metadata": {},
     "output_type": "execute_result"
    }
   ],
   "source": [
    "x_train_img.head()"
   ]
  },
  {
   "cell_type": "code",
   "execution_count": 24,
   "metadata": {},
   "outputs": [],
   "source": [
    "import re"
   ]
  },
  {
   "cell_type": "code",
   "execution_count": 25,
   "metadata": {
    "colab": {
     "base_uri": "https://localhost:8080/"
    },
    "id": "ntLjH_qLBlbB",
    "outputId": "79b3c54e-efd0-45dd-a3f4-191fca46aa7c"
   },
   "outputs": [
    {
     "name": "stdout",
     "output_type": "stream",
     "text": [
      "fire.15\n",
      "C:\\Users\\Pallavi\\Desktop\\Forest_Fire_Detection\\final_code\\fire.15.png\n",
      "fire.113\n",
      "C:\\Users\\Pallavi\\Desktop\\Forest_Fire_Detection\\final_code\\fire.113.png\n",
      "non_fire.17\n",
      "C:\\Users\\Pallavi\\Desktop\\Forest_Fire_Detection\\final_code\\non_fire.17.png\n",
      "non_fire.206\n",
      "C:\\Users\\Pallavi\\Desktop\\Forest_Fire_Detection\\final_code\\non_fire.206.png\n",
      "fire.185\n",
      "C:\\Users\\Pallavi\\Desktop\\Forest_Fire_Detection\\final_code\\fire.185.png\n",
      "fire.121\n",
      "C:\\Users\\Pallavi\\Desktop\\Forest_Fire_Detection\\final_code\\fire.121.png\n",
      "non_fire.3\n",
      "C:\\Users\\Pallavi\\Desktop\\Forest_Fire_Detection\\final_code\\non_fire.3.png\n",
      "fire.70\n",
      "C:\\Users\\Pallavi\\Desktop\\Forest_Fire_Detection\\final_code\\fire.70.png\n",
      "non_fire.38\n",
      "C:\\Users\\Pallavi\\Desktop\\Forest_Fire_Detection\\final_code\\non_fire.38.png\n",
      "non_fire.137\n",
      "C:\\Users\\Pallavi\\Desktop\\Forest_Fire_Detection\\final_code\\non_fire.137.png\n",
      "fire.7\n",
      "C:\\Users\\Pallavi\\Desktop\\Forest_Fire_Detection\\final_code\\fire.7.png\n",
      "fire.256\n",
      "C:\\Users\\Pallavi\\Desktop\\Forest_Fire_Detection\\final_code\\fire.256.png\n",
      "fire.109\n",
      "C:\\Users\\Pallavi\\Desktop\\Forest_Fire_Detection\\final_code\\fire.109.png\n",
      "fire.2\n",
      "C:\\Users\\Pallavi\\Desktop\\Forest_Fire_Detection\\final_code\\fire.2.png\n",
      "non_fire.172\n",
      "C:\\Users\\Pallavi\\Desktop\\Forest_Fire_Detection\\final_code\\non_fire.172.png\n",
      "fire.140\n",
      "C:\\Users\\Pallavi\\Desktop\\Forest_Fire_Detection\\final_code\\fire.140.png\n",
      "fire.28\n",
      "C:\\Users\\Pallavi\\Desktop\\Forest_Fire_Detection\\final_code\\fire.28.png\n",
      "fire.62\n",
      "C:\\Users\\Pallavi\\Desktop\\Forest_Fire_Detection\\final_code\\fire.62.png\n",
      "fire.170\n",
      "C:\\Users\\Pallavi\\Desktop\\Forest_Fire_Detection\\final_code\\fire.170.png\n",
      "fire.184\n",
      "C:\\Users\\Pallavi\\Desktop\\Forest_Fire_Detection\\final_code\\fire.184.png\n",
      "non_fire.23\n",
      "C:\\Users\\Pallavi\\Desktop\\Forest_Fire_Detection\\final_code\\non_fire.23.png\n",
      "fire.152\n",
      "C:\\Users\\Pallavi\\Desktop\\Forest_Fire_Detection\\final_code\\fire.152.png\n",
      "fire.192\n",
      "C:\\Users\\Pallavi\\Desktop\\Forest_Fire_Detection\\final_code\\fire.192.png\n",
      "non_fire.20\n",
      "C:\\Users\\Pallavi\\Desktop\\Forest_Fire_Detection\\final_code\\non_fire.20.png\n",
      "non_fire.5\n",
      "C:\\Users\\Pallavi\\Desktop\\Forest_Fire_Detection\\final_code\\non_fire.5.png\n",
      "non_fire.134\n",
      "C:\\Users\\Pallavi\\Desktop\\Forest_Fire_Detection\\final_code\\non_fire.134.png\n",
      "fire.247\n",
      "C:\\Users\\Pallavi\\Desktop\\Forest_Fire_Detection\\final_code\\fire.247.png\n",
      "non_fire.82\n",
      "C:\\Users\\Pallavi\\Desktop\\Forest_Fire_Detection\\final_code\\non_fire.82.png\n",
      "non_fire.31\n",
      "C:\\Users\\Pallavi\\Desktop\\Forest_Fire_Detection\\final_code\\non_fire.31.png\n",
      "non_fire.115\n",
      "C:\\Users\\Pallavi\\Desktop\\Forest_Fire_Detection\\final_code\\non_fire.115.png\n",
      "fire.262\n",
      "C:\\Users\\Pallavi\\Desktop\\Forest_Fire_Detection\\final_code\\fire.262.png\n",
      "fire.73\n",
      "C:\\Users\\Pallavi\\Desktop\\Forest_Fire_Detection\\final_code\\fire.73.png\n",
      "fire.64\n",
      "C:\\Users\\Pallavi\\Desktop\\Forest_Fire_Detection\\final_code\\fire.64.png\n",
      "non_fire.201\n",
      "C:\\Users\\Pallavi\\Desktop\\Forest_Fire_Detection\\final_code\\non_fire.201.png\n",
      "non_fire.129\n",
      "C:\\Users\\Pallavi\\Desktop\\Forest_Fire_Detection\\final_code\\non_fire.129.png\n",
      "fire.187\n",
      "C:\\Users\\Pallavi\\Desktop\\Forest_Fire_Detection\\final_code\\fire.187.png\n",
      "fire.83\n",
      "C:\\Users\\Pallavi\\Desktop\\Forest_Fire_Detection\\final_code\\fire.83.png\n",
      "non_fire.104\n",
      "C:\\Users\\Pallavi\\Desktop\\Forest_Fire_Detection\\final_code\\non_fire.104.png\n",
      "fire.134\n",
      "C:\\Users\\Pallavi\\Desktop\\Forest_Fire_Detection\\final_code\\fire.134.png\n",
      "fire.148\n",
      "C:\\Users\\Pallavi\\Desktop\\Forest_Fire_Detection\\final_code\\fire.148.png\n",
      "non_fire.155\n",
      "C:\\Users\\Pallavi\\Desktop\\Forest_Fire_Detection\\final_code\\non_fire.155.png\n",
      "fire.30\n",
      "C:\\Users\\Pallavi\\Desktop\\Forest_Fire_Detection\\final_code\\fire.30.png\n",
      "fire.291\n",
      "C:\\Users\\Pallavi\\Desktop\\Forest_Fire_Detection\\final_code\\fire.291.png\n",
      "fire.267\n",
      "C:\\Users\\Pallavi\\Desktop\\Forest_Fire_Detection\\final_code\\fire.267.png\n",
      "non_fire.102\n",
      "C:\\Users\\Pallavi\\Desktop\\Forest_Fire_Detection\\final_code\\non_fire.102.png\n",
      "fire.131\n",
      "C:\\Users\\Pallavi\\Desktop\\Forest_Fire_Detection\\final_code\\fire.131.png\n",
      "non_fire.54\n",
      "C:\\Users\\Pallavi\\Desktop\\Forest_Fire_Detection\\final_code\\non_fire.54.png\n",
      "fire.167\n",
      "C:\\Users\\Pallavi\\Desktop\\Forest_Fire_Detection\\final_code\\fire.167.png\n",
      "fire.110\n",
      "C:\\Users\\Pallavi\\Desktop\\Forest_Fire_Detection\\final_code\\fire.110.png\n",
      "fire.317\n",
      "C:\\Users\\Pallavi\\Desktop\\Forest_Fire_Detection\\final_code\\fire.317.png\n",
      "fire.209\n",
      "C:\\Users\\Pallavi\\Desktop\\Forest_Fire_Detection\\final_code\\fire.209.png\n",
      "non_fire.166\n",
      "C:\\Users\\Pallavi\\Desktop\\Forest_Fire_Detection\\final_code\\non_fire.166.png\n",
      "non_fire.141\n",
      "C:\\Users\\Pallavi\\Desktop\\Forest_Fire_Detection\\final_code\\non_fire.141.png\n",
      "non_fire.62\n",
      "C:\\Users\\Pallavi\\Desktop\\Forest_Fire_Detection\\final_code\\non_fire.62.png\n",
      "non_fire.83\n",
      "C:\\Users\\Pallavi\\Desktop\\Forest_Fire_Detection\\final_code\\non_fire.83.png\n",
      "fire.199\n",
      "C:\\Users\\Pallavi\\Desktop\\Forest_Fire_Detection\\final_code\\fire.199.png\n",
      "non_fire.105\n",
      "C:\\Users\\Pallavi\\Desktop\\Forest_Fire_Detection\\final_code\\non_fire.105.png\n",
      "non_fire.71\n",
      "C:\\Users\\Pallavi\\Desktop\\Forest_Fire_Detection\\final_code\\non_fire.71.png\n",
      "non_fire.110\n",
      "C:\\Users\\Pallavi\\Desktop\\Forest_Fire_Detection\\final_code\\non_fire.110.png\n",
      "fire.258\n",
      "C:\\Users\\Pallavi\\Desktop\\Forest_Fire_Detection\\final_code\\fire.258.png\n",
      "non_fire.183\n",
      "C:\\Users\\Pallavi\\Desktop\\Forest_Fire_Detection\\final_code\\non_fire.183.png\n",
      "non_fire.64\n",
      "C:\\Users\\Pallavi\\Desktop\\Forest_Fire_Detection\\final_code\\non_fire.64.png\n",
      "non_fire.80\n",
      "C:\\Users\\Pallavi\\Desktop\\Forest_Fire_Detection\\final_code\\non_fire.80.png\n",
      "fire.106\n",
      "C:\\Users\\Pallavi\\Desktop\\Forest_Fire_Detection\\final_code\\fire.106.png\n",
      "non_fire.119\n",
      "C:\\Users\\Pallavi\\Desktop\\Forest_Fire_Detection\\final_code\\non_fire.119.png\n",
      "non_fire.146\n",
      "C:\\Users\\Pallavi\\Desktop\\Forest_Fire_Detection\\final_code\\non_fire.146.png\n",
      "non_fire.180\n",
      "C:\\Users\\Pallavi\\Desktop\\Forest_Fire_Detection\\final_code\\non_fire.180.png\n",
      "non_fire.58\n",
      "C:\\Users\\Pallavi\\Desktop\\Forest_Fire_Detection\\final_code\\non_fire.58.png\n",
      "fire.23\n",
      "C:\\Users\\Pallavi\\Desktop\\Forest_Fire_Detection\\final_code\\fire.23.png\n",
      "non_fire.167\n",
      "C:\\Users\\Pallavi\\Desktop\\Forest_Fire_Detection\\final_code\\non_fire.167.png\n",
      "fire.269\n",
      "C:\\Users\\Pallavi\\Desktop\\Forest_Fire_Detection\\final_code\\fire.269.png\n",
      "non_fire.86\n",
      "C:\\Users\\Pallavi\\Desktop\\Forest_Fire_Detection\\final_code\\non_fire.86.png\n",
      "fire.142\n",
      "C:\\Users\\Pallavi\\Desktop\\Forest_Fire_Detection\\final_code\\fire.142.png\n",
      "fire.229\n",
      "C:\\Users\\Pallavi\\Desktop\\Forest_Fire_Detection\\final_code\\fire.229.png\n",
      "non_fire.196\n",
      "C:\\Users\\Pallavi\\Desktop\\Forest_Fire_Detection\\final_code\\non_fire.196.png\n",
      "fire.104\n",
      "C:\\Users\\Pallavi\\Desktop\\Forest_Fire_Detection\\final_code\\fire.104.png\n",
      "fire.224\n",
      "C:\\Users\\Pallavi\\Desktop\\Forest_Fire_Detection\\final_code\\fire.224.png\n",
      "fire.57\n",
      "C:\\Users\\Pallavi\\Desktop\\Forest_Fire_Detection\\final_code\\fire.57.png\n",
      "non_fire.197\n",
      "C:\\Users\\Pallavi\\Desktop\\Forest_Fire_Detection\\final_code\\non_fire.197.png\n",
      "fire.261\n",
      "C:\\Users\\Pallavi\\Desktop\\Forest_Fire_Detection\\final_code\\fire.261.png\n",
      "fire.182\n",
      "C:\\Users\\Pallavi\\Desktop\\Forest_Fire_Detection\\final_code\\fire.182.png\n",
      "fire.208\n",
      "C:\\Users\\Pallavi\\Desktop\\Forest_Fire_Detection\\final_code\\fire.208.png\n",
      "fire.168\n",
      "C:\\Users\\Pallavi\\Desktop\\Forest_Fire_Detection\\final_code\\fire.168.png\n",
      "non_fire.30\n",
      "C:\\Users\\Pallavi\\Desktop\\Forest_Fire_Detection\\final_code\\non_fire.30.png\n",
      "fire.123\n",
      "C:\\Users\\Pallavi\\Desktop\\Forest_Fire_Detection\\final_code\\fire.123.png\n",
      "non_fire.100\n",
      "C:\\Users\\Pallavi\\Desktop\\Forest_Fire_Detection\\final_code\\non_fire.100.png\n",
      "fire.130\n",
      "C:\\Users\\Pallavi\\Desktop\\Forest_Fire_Detection\\final_code\\fire.130.png\n",
      "fire.290\n",
      "C:\\Users\\Pallavi\\Desktop\\Forest_Fire_Detection\\final_code\\fire.290.png\n",
      "non_fire.214\n",
      "C:\\Users\\Pallavi\\Desktop\\Forest_Fire_Detection\\final_code\\non_fire.214.png\n",
      "fire.300\n",
      "C:\\Users\\Pallavi\\Desktop\\Forest_Fire_Detection\\final_code\\fire.300.png\n",
      "fire.24\n",
      "C:\\Users\\Pallavi\\Desktop\\Forest_Fire_Detection\\final_code\\fire.24.png\n",
      "fire.242\n",
      "C:\\Users\\Pallavi\\Desktop\\Forest_Fire_Detection\\final_code\\fire.242.png\n",
      "fire.63\n",
      "C:\\Users\\Pallavi\\Desktop\\Forest_Fire_Detection\\final_code\\fire.63.png\n",
      "fire.44\n",
      "C:\\Users\\Pallavi\\Desktop\\Forest_Fire_Detection\\final_code\\fire.44.png\n",
      "fire.225\n",
      "C:\\Users\\Pallavi\\Desktop\\Forest_Fire_Detection\\final_code\\fire.225.png\n",
      "non_fire.4\n",
      "C:\\Users\\Pallavi\\Desktop\\Forest_Fire_Detection\\final_code\\non_fire.4.png\n",
      "fire.117\n",
      "C:\\Users\\Pallavi\\Desktop\\Forest_Fire_Detection\\final_code\\fire.117.png\n",
      "fire.90\n",
      "C:\\Users\\Pallavi\\Desktop\\Forest_Fire_Detection\\final_code\\fire.90.png\n",
      "fire.76\n",
      "C:\\Users\\Pallavi\\Desktop\\Forest_Fire_Detection\\final_code\\fire.76.png\n",
      "non_fire.116\n",
      "C:\\Users\\Pallavi\\Desktop\\Forest_Fire_Detection\\final_code\\non_fire.116.png\n"
     ]
    },
    {
     "name": "stdout",
     "output_type": "stream",
     "text": [
      "non_fire.109\n",
      "C:\\Users\\Pallavi\\Desktop\\Forest_Fire_Detection\\final_code\\non_fire.109.png\n",
      "fire.151\n",
      "C:\\Users\\Pallavi\\Desktop\\Forest_Fire_Detection\\final_code\\fire.151.png\n",
      "non_fire.32\n",
      "C:\\Users\\Pallavi\\Desktop\\Forest_Fire_Detection\\final_code\\non_fire.32.png\n",
      "fire.31\n",
      "C:\\Users\\Pallavi\\Desktop\\Forest_Fire_Detection\\final_code\\fire.31.png\n",
      "non_fire.145\n",
      "C:\\Users\\Pallavi\\Desktop\\Forest_Fire_Detection\\final_code\\non_fire.145.png\n",
      "fire.230\n",
      "C:\\Users\\Pallavi\\Desktop\\Forest_Fire_Detection\\final_code\\fire.230.png\n",
      "fire.96\n",
      "C:\\Users\\Pallavi\\Desktop\\Forest_Fire_Detection\\final_code\\fire.96.png\n",
      "fire.162\n",
      "C:\\Users\\Pallavi\\Desktop\\Forest_Fire_Detection\\final_code\\fire.162.png\n",
      "non_fire.106\n",
      "C:\\Users\\Pallavi\\Desktop\\Forest_Fire_Detection\\final_code\\non_fire.106.png\n",
      "fire.18\n",
      "C:\\Users\\Pallavi\\Desktop\\Forest_Fire_Detection\\final_code\\fire.18.png\n",
      "fire.285\n",
      "C:\\Users\\Pallavi\\Desktop\\Forest_Fire_Detection\\final_code\\fire.285.png\n",
      "non_fire.90\n",
      "C:\\Users\\Pallavi\\Desktop\\Forest_Fire_Detection\\final_code\\non_fire.90.png\n",
      "fire.160\n",
      "C:\\Users\\Pallavi\\Desktop\\Forest_Fire_Detection\\final_code\\fire.160.png\n",
      "fire.48\n",
      "C:\\Users\\Pallavi\\Desktop\\Forest_Fire_Detection\\final_code\\fire.48.png\n",
      "fire.93\n",
      "C:\\Users\\Pallavi\\Desktop\\Forest_Fire_Detection\\final_code\\fire.93.png\n",
      "fire.144\n",
      "C:\\Users\\Pallavi\\Desktop\\Forest_Fire_Detection\\final_code\\fire.144.png\n",
      "fire.166\n",
      "C:\\Users\\Pallavi\\Desktop\\Forest_Fire_Detection\\final_code\\fire.166.png\n",
      "fire.51\n",
      "C:\\Users\\Pallavi\\Desktop\\Forest_Fire_Detection\\final_code\\fire.51.png\n",
      "fire.100\n",
      "C:\\Users\\Pallavi\\Desktop\\Forest_Fire_Detection\\final_code\\fire.100.png\n",
      "non_fire.89\n",
      "C:\\Users\\Pallavi\\Desktop\\Forest_Fire_Detection\\final_code\\non_fire.89.png\n",
      "non_fire.135\n",
      "C:\\Users\\Pallavi\\Desktop\\Forest_Fire_Detection\\final_code\\non_fire.135.png\n",
      "fire.125\n",
      "C:\\Users\\Pallavi\\Desktop\\Forest_Fire_Detection\\final_code\\fire.125.png\n",
      "non_fire.181\n",
      "C:\\Users\\Pallavi\\Desktop\\Forest_Fire_Detection\\final_code\\non_fire.181.png\n",
      "fire.263\n",
      "C:\\Users\\Pallavi\\Desktop\\Forest_Fire_Detection\\final_code\\fire.263.png\n",
      "fire.3\n",
      "C:\\Users\\Pallavi\\Desktop\\Forest_Fire_Detection\\final_code\\fire.3.png\n",
      "fire.101\n",
      "C:\\Users\\Pallavi\\Desktop\\Forest_Fire_Detection\\final_code\\fire.101.png\n",
      "fire.6\n",
      "C:\\Users\\Pallavi\\Desktop\\Forest_Fire_Detection\\final_code\\fire.6.png\n",
      "fire.221\n",
      "C:\\Users\\Pallavi\\Desktop\\Forest_Fire_Detection\\final_code\\fire.221.png\n",
      "non_fire.213\n",
      "C:\\Users\\Pallavi\\Desktop\\Forest_Fire_Detection\\final_code\\non_fire.213.png\n",
      "non_fire.92\n",
      "C:\\Users\\Pallavi\\Desktop\\Forest_Fire_Detection\\final_code\\non_fire.92.png\n",
      "fire.13\n",
      "C:\\Users\\Pallavi\\Desktop\\Forest_Fire_Detection\\final_code\\fire.13.png\n",
      "fire.143\n",
      "C:\\Users\\Pallavi\\Desktop\\Forest_Fire_Detection\\final_code\\fire.143.png\n",
      "fire.217\n",
      "C:\\Users\\Pallavi\\Desktop\\Forest_Fire_Detection\\final_code\\fire.217.png\n",
      "fire.137\n",
      "C:\\Users\\Pallavi\\Desktop\\Forest_Fire_Detection\\final_code\\fire.137.png\n",
      "non_fire.95\n",
      "C:\\Users\\Pallavi\\Desktop\\Forest_Fire_Detection\\final_code\\non_fire.95.png\n",
      "fire.207\n",
      "C:\\Users\\Pallavi\\Desktop\\Forest_Fire_Detection\\final_code\\fire.207.png\n",
      "fire.282\n",
      "C:\\Users\\Pallavi\\Desktop\\Forest_Fire_Detection\\final_code\\fire.282.png\n",
      "fire.58\n",
      "C:\\Users\\Pallavi\\Desktop\\Forest_Fire_Detection\\final_code\\fire.58.png\n",
      "fire.146\n",
      "C:\\Users\\Pallavi\\Desktop\\Forest_Fire_Detection\\final_code\\fire.146.png\n",
      "fire.180\n",
      "C:\\Users\\Pallavi\\Desktop\\Forest_Fire_Detection\\final_code\\fire.180.png\n",
      "fire.107\n",
      "C:\\Users\\Pallavi\\Desktop\\Forest_Fire_Detection\\final_code\\fire.107.png\n",
      "fire.191\n",
      "C:\\Users\\Pallavi\\Desktop\\Forest_Fire_Detection\\final_code\\fire.191.png\n",
      "non_fire.217\n",
      "C:\\Users\\Pallavi\\Desktop\\Forest_Fire_Detection\\final_code\\non_fire.217.png\n",
      "fire.133\n",
      "C:\\Users\\Pallavi\\Desktop\\Forest_Fire_Detection\\final_code\\fire.133.png\n",
      "fire.80\n",
      "C:\\Users\\Pallavi\\Desktop\\Forest_Fire_Detection\\final_code\\fire.80.png\n",
      "non_fire.84\n",
      "C:\\Users\\Pallavi\\Desktop\\Forest_Fire_Detection\\final_code\\non_fire.84.png\n",
      "non_fire.132\n",
      "C:\\Users\\Pallavi\\Desktop\\Forest_Fire_Detection\\final_code\\non_fire.132.png\n",
      "fire.235\n",
      "C:\\Users\\Pallavi\\Desktop\\Forest_Fire_Detection\\final_code\\fire.235.png\n",
      "fire.78\n",
      "C:\\Users\\Pallavi\\Desktop\\Forest_Fire_Detection\\final_code\\fire.78.png\n",
      "fire.60\n",
      "C:\\Users\\Pallavi\\Desktop\\Forest_Fire_Detection\\final_code\\fire.60.png\n",
      "fire.296\n",
      "C:\\Users\\Pallavi\\Desktop\\Forest_Fire_Detection\\final_code\\fire.296.png\n",
      "fire.116\n",
      "C:\\Users\\Pallavi\\Desktop\\Forest_Fire_Detection\\final_code\\fire.116.png\n",
      "non_fire.171\n",
      "C:\\Users\\Pallavi\\Desktop\\Forest_Fire_Detection\\final_code\\non_fire.171.png\n",
      "fire.249\n",
      "C:\\Users\\Pallavi\\Desktop\\Forest_Fire_Detection\\final_code\\fire.249.png\n",
      "fire.265\n",
      "C:\\Users\\Pallavi\\Desktop\\Forest_Fire_Detection\\final_code\\fire.265.png\n",
      "non_fire.120\n",
      "C:\\Users\\Pallavi\\Desktop\\Forest_Fire_Detection\\final_code\\non_fire.120.png\n",
      "non_fire.98\n",
      "C:\\Users\\Pallavi\\Desktop\\Forest_Fire_Detection\\final_code\\non_fire.98.png\n",
      "non_fire.144\n",
      "C:\\Users\\Pallavi\\Desktop\\Forest_Fire_Detection\\final_code\\non_fire.144.png\n",
      "non_fire.193\n",
      "C:\\Users\\Pallavi\\Desktop\\Forest_Fire_Detection\\final_code\\non_fire.193.png\n",
      "non_fire.170\n",
      "C:\\Users\\Pallavi\\Desktop\\Forest_Fire_Detection\\final_code\\non_fire.170.png\n",
      "fire.69\n",
      "C:\\Users\\Pallavi\\Desktop\\Forest_Fire_Detection\\final_code\\fire.69.png\n",
      "non_fire.87\n",
      "C:\\Users\\Pallavi\\Desktop\\Forest_Fire_Detection\\final_code\\non_fire.87.png\n",
      "fire.114\n",
      "C:\\Users\\Pallavi\\Desktop\\Forest_Fire_Detection\\final_code\\fire.114.png\n",
      "non_fire.162\n",
      "C:\\Users\\Pallavi\\Desktop\\Forest_Fire_Detection\\final_code\\non_fire.162.png\n",
      "fire.174\n",
      "C:\\Users\\Pallavi\\Desktop\\Forest_Fire_Detection\\final_code\\fire.174.png\n",
      "fire.91\n",
      "C:\\Users\\Pallavi\\Desktop\\Forest_Fire_Detection\\final_code\\fire.91.png\n",
      "non_fire.93\n",
      "C:\\Users\\Pallavi\\Desktop\\Forest_Fire_Detection\\final_code\\non_fire.93.png\n",
      "non_fire.208\n",
      "C:\\Users\\Pallavi\\Desktop\\Forest_Fire_Detection\\final_code\\non_fire.208.png\n",
      "fire.189\n",
      "C:\\Users\\Pallavi\\Desktop\\Forest_Fire_Detection\\final_code\\fire.189.png\n",
      "non_fire.81\n",
      "C:\\Users\\Pallavi\\Desktop\\Forest_Fire_Detection\\final_code\\non_fire.81.png\n",
      "fire.135\n",
      "C:\\Users\\Pallavi\\Desktop\\Forest_Fire_Detection\\final_code\\fire.135.png\n",
      "fire.54\n",
      "C:\\Users\\Pallavi\\Desktop\\Forest_Fire_Detection\\final_code\\fire.54.png\n",
      "non_fire.96\n",
      "C:\\Users\\Pallavi\\Desktop\\Forest_Fire_Detection\\final_code\\non_fire.96.png\n",
      "fire.127\n",
      "C:\\Users\\Pallavi\\Desktop\\Forest_Fire_Detection\\final_code\\fire.127.png\n",
      "non_fire.37\n",
      "C:\\Users\\Pallavi\\Desktop\\Forest_Fire_Detection\\final_code\\non_fire.37.png\n",
      "fire.252\n",
      "C:\\Users\\Pallavi\\Desktop\\Forest_Fire_Detection\\final_code\\fire.252.png\n",
      "non_fire.52\n",
      "C:\\Users\\Pallavi\\Desktop\\Forest_Fire_Detection\\final_code\\non_fire.52.png\n",
      "fire.175\n",
      "C:\\Users\\Pallavi\\Desktop\\Forest_Fire_Detection\\final_code\\fire.175.png\n",
      "non_fire.66\n",
      "C:\\Users\\Pallavi\\Desktop\\Forest_Fire_Detection\\final_code\\non_fire.66.png\n",
      "non_fire.177\n",
      "C:\\Users\\Pallavi\\Desktop\\Forest_Fire_Detection\\final_code\\non_fire.177.png\n",
      "fire.115\n",
      "C:\\Users\\Pallavi\\Desktop\\Forest_Fire_Detection\\final_code\\fire.115.png\n",
      "fire.211\n",
      "C:\\Users\\Pallavi\\Desktop\\Forest_Fire_Detection\\final_code\\fire.211.png\n",
      "non_fire.117\n",
      "C:\\Users\\Pallavi\\Desktop\\Forest_Fire_Detection\\final_code\\non_fire.117.png\n",
      "non_fire.10\n",
      "C:\\Users\\Pallavi\\Desktop\\Forest_Fire_Detection\\final_code\\non_fire.10.png\n",
      "non_fire.29\n",
      "C:\\Users\\Pallavi\\Desktop\\Forest_Fire_Detection\\final_code\\non_fire.29.png\n",
      "non_fire.22\n",
      "C:\\Users\\Pallavi\\Desktop\\Forest_Fire_Detection\\final_code\\non_fire.22.png\n",
      "non_fire.124\n",
      "C:\\Users\\Pallavi\\Desktop\\Forest_Fire_Detection\\final_code\\non_fire.124.png\n",
      "non_fire.103\n",
      "C:\\Users\\Pallavi\\Desktop\\Forest_Fire_Detection\\final_code\\non_fire.103.png\n",
      "fire.223\n",
      "C:\\Users\\Pallavi\\Desktop\\Forest_Fire_Detection\\final_code\\fire.223.png\n",
      "fire.212\n",
      "C:\\Users\\Pallavi\\Desktop\\Forest_Fire_Detection\\final_code\\fire.212.png\n",
      "non_fire.161\n",
      "C:\\Users\\Pallavi\\Desktop\\Forest_Fire_Detection\\final_code\\non_fire.161.png\n",
      "non_fire.74\n",
      "C:\\Users\\Pallavi\\Desktop\\Forest_Fire_Detection\\final_code\\non_fire.74.png\n",
      "non_fire.42\n",
      "C:\\Users\\Pallavi\\Desktop\\Forest_Fire_Detection\\final_code\\non_fire.42.png\n",
      "fire.145\n",
      "C:\\Users\\Pallavi\\Desktop\\Forest_Fire_Detection\\final_code\\fire.145.png\n",
      "fire.139\n",
      "C:\\Users\\Pallavi\\Desktop\\Forest_Fire_Detection\\final_code\\fire.139.png\n",
      "fire.86\n",
      "C:\\Users\\Pallavi\\Desktop\\Forest_Fire_Detection\\final_code\\fire.86.png\n",
      "fire.202\n",
      "C:\\Users\\Pallavi\\Desktop\\Forest_Fire_Detection\\final_code\\fire.202.png\n",
      "non_fire.131\n",
      "C:\\Users\\Pallavi\\Desktop\\Forest_Fire_Detection\\final_code\\non_fire.131.png\n",
      "non_fire.34\n",
      "C:\\Users\\Pallavi\\Desktop\\Forest_Fire_Detection\\final_code\\non_fire.34.png\n",
      "fire.228\n",
      "C:\\Users\\Pallavi\\Desktop\\Forest_Fire_Detection\\final_code\\fire.228.png\n",
      "fire.214\n",
      "C:\\Users\\Pallavi\\Desktop\\Forest_Fire_Detection\\final_code\\fire.214.png\n",
      "non_fire.150\n",
      "C:\\Users\\Pallavi\\Desktop\\Forest_Fire_Detection\\final_code\\non_fire.150.png\n",
      "fire.171\n",
      "C:\\Users\\Pallavi\\Desktop\\Forest_Fire_Detection\\final_code\\fire.171.png\n",
      "fire.95\n",
      "C:\\Users\\Pallavi\\Desktop\\Forest_Fire_Detection\\final_code\\fire.95.png\n",
      "non_fire.189\n",
      "C:\\Users\\Pallavi\\Desktop\\Forest_Fire_Detection\\final_code\\non_fire.189.png\n",
      "fire.190\n",
      "C:\\Users\\Pallavi\\Desktop\\Forest_Fire_Detection\\final_code\\fire.190.png\n",
      "fire.5\n",
      "C:\\Users\\Pallavi\\Desktop\\Forest_Fire_Detection\\final_code\\fire.5.png\n",
      "non_fire.191\n",
      "C:\\Users\\Pallavi\\Desktop\\Forest_Fire_Detection\\final_code\\non_fire.191.png\n",
      "fire.250\n",
      "C:\\Users\\Pallavi\\Desktop\\Forest_Fire_Detection\\final_code\\fire.250.png\n",
      "non_fire.77\n",
      "C:\\Users\\Pallavi\\Desktop\\Forest_Fire_Detection\\final_code\\non_fire.77.png\n",
      "non_fire.164\n",
      "C:\\Users\\Pallavi\\Desktop\\Forest_Fire_Detection\\final_code\\non_fire.164.png\n",
      "fire.216\n",
      "C:\\Users\\Pallavi\\Desktop\\Forest_Fire_Detection\\final_code\\fire.216.png\n",
      "fire.128\n",
      "C:\\Users\\Pallavi\\Desktop\\Forest_Fire_Detection\\final_code\\fire.128.png\n",
      "fire.210\n",
      "C:\\Users\\Pallavi\\Desktop\\Forest_Fire_Detection\\final_code\\fire.210.png\n",
      "non_fire.125\n",
      "C:\\Users\\Pallavi\\Desktop\\Forest_Fire_Detection\\final_code\\non_fire.125.png\n",
      "non_fire.75\n",
      "C:\\Users\\Pallavi\\Desktop\\Forest_Fire_Detection\\final_code\\non_fire.75.png\n",
      "non_fire.215\n",
      "C:\\Users\\Pallavi\\Desktop\\Forest_Fire_Detection\\final_code\\non_fire.215.png\n",
      "fire.132\n",
      "C:\\Users\\Pallavi\\Desktop\\Forest_Fire_Detection\\final_code\\fire.132.png\n",
      "fire.32\n",
      "C:\\Users\\Pallavi\\Desktop\\Forest_Fire_Detection\\final_code\\fire.32.png\n",
      "non_fire.40\n",
      "C:\\Users\\Pallavi\\Desktop\\Forest_Fire_Detection\\final_code\\non_fire.40.png\n"
     ]
    },
    {
     "name": "stdout",
     "output_type": "stream",
     "text": [
      "non_fire.26\n",
      "C:\\Users\\Pallavi\\Desktop\\Forest_Fire_Detection\\final_code\\non_fire.26.png\n",
      "non_fire.202\n",
      "C:\\Users\\Pallavi\\Desktop\\Forest_Fire_Detection\\final_code\\non_fire.202.png\n",
      "fire.42\n",
      "C:\\Users\\Pallavi\\Desktop\\Forest_Fire_Detection\\final_code\\fire.42.png\n",
      "non_fire.147\n",
      "C:\\Users\\Pallavi\\Desktop\\Forest_Fire_Detection\\final_code\\non_fire.147.png\n",
      "fire.248\n",
      "C:\\Users\\Pallavi\\Desktop\\Forest_Fire_Detection\\final_code\\fire.248.png\n",
      "non_fire.21\n",
      "C:\\Users\\Pallavi\\Desktop\\Forest_Fire_Detection\\final_code\\non_fire.21.png\n",
      "fire.194\n",
      "C:\\Users\\Pallavi\\Desktop\\Forest_Fire_Detection\\final_code\\fire.194.png\n",
      "non_fire.168\n",
      "C:\\Users\\Pallavi\\Desktop\\Forest_Fire_Detection\\final_code\\non_fire.168.png\n",
      "non_fire.195\n",
      "C:\\Users\\Pallavi\\Desktop\\Forest_Fire_Detection\\final_code\\non_fire.195.png\n",
      "fire.197\n",
      "C:\\Users\\Pallavi\\Desktop\\Forest_Fire_Detection\\final_code\\fire.197.png\n",
      "non_fire.211\n",
      "C:\\Users\\Pallavi\\Desktop\\Forest_Fire_Detection\\final_code\\non_fire.211.png\n",
      "fire.105\n",
      "C:\\Users\\Pallavi\\Desktop\\Forest_Fire_Detection\\final_code\\fire.105.png\n",
      "fire.213\n",
      "C:\\Users\\Pallavi\\Desktop\\Forest_Fire_Detection\\final_code\\fire.213.png\n",
      "fire.89\n",
      "C:\\Users\\Pallavi\\Desktop\\Forest_Fire_Detection\\final_code\\fire.89.png\n",
      "non_fire.49\n",
      "C:\\Users\\Pallavi\\Desktop\\Forest_Fire_Detection\\final_code\\non_fire.49.png\n",
      "non_fire.97\n",
      "C:\\Users\\Pallavi\\Desktop\\Forest_Fire_Detection\\final_code\\non_fire.97.png\n",
      "non_fire.94\n",
      "C:\\Users\\Pallavi\\Desktop\\Forest_Fire_Detection\\final_code\\non_fire.94.png\n",
      "fire.289\n",
      "C:\\Users\\Pallavi\\Desktop\\Forest_Fire_Detection\\final_code\\fire.289.png\n",
      "non_fire.6\n",
      "C:\\Users\\Pallavi\\Desktop\\Forest_Fire_Detection\\final_code\\non_fire.6.png\n",
      "fire.40\n",
      "C:\\Users\\Pallavi\\Desktop\\Forest_Fire_Detection\\final_code\\fire.40.png\n",
      "fire.257\n",
      "C:\\Users\\Pallavi\\Desktop\\Forest_Fire_Detection\\final_code\\fire.257.png\n",
      "non_fire.51\n",
      "C:\\Users\\Pallavi\\Desktop\\Forest_Fire_Detection\\final_code\\non_fire.51.png\n",
      "fire.186\n",
      "C:\\Users\\Pallavi\\Desktop\\Forest_Fire_Detection\\final_code\\fire.186.png\n",
      "non_fire.12\n",
      "C:\\Users\\Pallavi\\Desktop\\Forest_Fire_Detection\\final_code\\non_fire.12.png\n",
      "non_fire.114\n",
      "C:\\Users\\Pallavi\\Desktop\\Forest_Fire_Detection\\final_code\\non_fire.114.png\n",
      "non_fire.33\n",
      "C:\\Users\\Pallavi\\Desktop\\Forest_Fire_Detection\\final_code\\non_fire.33.png\n",
      "fire.200\n",
      "C:\\Users\\Pallavi\\Desktop\\Forest_Fire_Detection\\final_code\\fire.200.png\n",
      "fire.255\n",
      "C:\\Users\\Pallavi\\Desktop\\Forest_Fire_Detection\\final_code\\fire.255.png\n",
      "fire.178\n",
      "C:\\Users\\Pallavi\\Desktop\\Forest_Fire_Detection\\final_code\\fire.178.png\n",
      "non_fire.157\n",
      "C:\\Users\\Pallavi\\Desktop\\Forest_Fire_Detection\\final_code\\non_fire.157.png\n",
      "fire.165\n",
      "C:\\Users\\Pallavi\\Desktop\\Forest_Fire_Detection\\final_code\\fire.165.png\n",
      "fire.227\n",
      "C:\\Users\\Pallavi\\Desktop\\Forest_Fire_Detection\\final_code\\fire.227.png\n",
      "fire.220\n",
      "C:\\Users\\Pallavi\\Desktop\\Forest_Fire_Detection\\final_code\\fire.220.png\n",
      "fire.59\n",
      "C:\\Users\\Pallavi\\Desktop\\Forest_Fire_Detection\\final_code\\fire.59.png\n",
      "non_fire.174\n",
      "C:\\Users\\Pallavi\\Desktop\\Forest_Fire_Detection\\final_code\\non_fire.174.png\n",
      "non_fire.151\n",
      "C:\\Users\\Pallavi\\Desktop\\Forest_Fire_Detection\\final_code\\non_fire.151.png\n",
      "non_fire.156\n",
      "C:\\Users\\Pallavi\\Desktop\\Forest_Fire_Detection\\final_code\\non_fire.156.png\n",
      "non_fire.218\n",
      "C:\\Users\\Pallavi\\Desktop\\Forest_Fire_Detection\\final_code\\non_fire.218.png\n",
      "fire.260\n",
      "C:\\Users\\Pallavi\\Desktop\\Forest_Fire_Detection\\final_code\\fire.260.png\n",
      "non_fire.186\n",
      "C:\\Users\\Pallavi\\Desktop\\Forest_Fire_Detection\\final_code\\non_fire.186.png\n",
      "fire.309\n",
      "C:\\Users\\Pallavi\\Desktop\\Forest_Fire_Detection\\final_code\\fire.309.png\n",
      "fire.264\n",
      "C:\\Users\\Pallavi\\Desktop\\Forest_Fire_Detection\\final_code\\fire.264.png\n",
      "fire.193\n",
      "C:\\Users\\Pallavi\\Desktop\\Forest_Fire_Detection\\final_code\\fire.193.png\n",
      "fire.85\n",
      "C:\\Users\\Pallavi\\Desktop\\Forest_Fire_Detection\\final_code\\fire.85.png\n",
      "non_fire.204\n",
      "C:\\Users\\Pallavi\\Desktop\\Forest_Fire_Detection\\final_code\\non_fire.204.png\n",
      "fire.124\n",
      "C:\\Users\\Pallavi\\Desktop\\Forest_Fire_Detection\\final_code\\fire.124.png\n",
      "non_fire.118\n",
      "C:\\Users\\Pallavi\\Desktop\\Forest_Fire_Detection\\final_code\\non_fire.118.png\n",
      "non_fire.36\n",
      "C:\\Users\\Pallavi\\Desktop\\Forest_Fire_Detection\\final_code\\non_fire.36.png\n",
      "non_fire.158\n",
      "C:\\Users\\Pallavi\\Desktop\\Forest_Fire_Detection\\final_code\\non_fire.158.png\n",
      "fire.159\n",
      "C:\\Users\\Pallavi\\Desktop\\Forest_Fire_Detection\\final_code\\fire.159.png\n",
      "fire.122\n",
      "C:\\Users\\Pallavi\\Desktop\\Forest_Fire_Detection\\final_code\\fire.122.png\n",
      "fire.10\n",
      "C:\\Users\\Pallavi\\Desktop\\Forest_Fire_Detection\\final_code\\fire.10.png\n",
      "non_fire.194\n",
      "C:\\Users\\Pallavi\\Desktop\\Forest_Fire_Detection\\final_code\\non_fire.194.png\n",
      "fire.55\n",
      "C:\\Users\\Pallavi\\Desktop\\Forest_Fire_Detection\\final_code\\fire.55.png\n",
      "non_fire.44\n",
      "C:\\Users\\Pallavi\\Desktop\\Forest_Fire_Detection\\final_code\\non_fire.44.png\n",
      "fire.147\n",
      "C:\\Users\\Pallavi\\Desktop\\Forest_Fire_Detection\\final_code\\fire.147.png\n",
      "non_fire.1\n",
      "C:\\Users\\Pallavi\\Desktop\\Forest_Fire_Detection\\final_code\\non_fire.1.png\n",
      "fire.238\n",
      "C:\\Users\\Pallavi\\Desktop\\Forest_Fire_Detection\\final_code\\fire.238.png\n",
      "fire.298\n",
      "C:\\Users\\Pallavi\\Desktop\\Forest_Fire_Detection\\final_code\\fire.298.png\n",
      "fire.21\n",
      "C:\\Users\\Pallavi\\Desktop\\Forest_Fire_Detection\\final_code\\fire.21.png\n",
      "fire.183\n",
      "C:\\Users\\Pallavi\\Desktop\\Forest_Fire_Detection\\final_code\\fire.183.png\n",
      "non_fire.61\n",
      "C:\\Users\\Pallavi\\Desktop\\Forest_Fire_Detection\\final_code\\non_fire.61.png\n",
      "non_fire.149\n",
      "C:\\Users\\Pallavi\\Desktop\\Forest_Fire_Detection\\final_code\\non_fire.149.png\n",
      "non_fire.28\n",
      "C:\\Users\\Pallavi\\Desktop\\Forest_Fire_Detection\\final_code\\non_fire.28.png\n",
      "fire.204\n",
      "C:\\Users\\Pallavi\\Desktop\\Forest_Fire_Detection\\final_code\\fire.204.png\n",
      "non_fire.198\n",
      "C:\\Users\\Pallavi\\Desktop\\Forest_Fire_Detection\\final_code\\non_fire.198.png\n",
      "fire.198\n",
      "C:\\Users\\Pallavi\\Desktop\\Forest_Fire_Detection\\final_code\\fire.198.png\n",
      "fire.274\n",
      "C:\\Users\\Pallavi\\Desktop\\Forest_Fire_Detection\\final_code\\fire.274.png\n",
      "fire.108\n",
      "C:\\Users\\Pallavi\\Desktop\\Forest_Fire_Detection\\final_code\\fire.108.png\n",
      "fire.46\n",
      "C:\\Users\\Pallavi\\Desktop\\Forest_Fire_Detection\\final_code\\fire.46.png\n",
      "fire.65\n",
      "C:\\Users\\Pallavi\\Desktop\\Forest_Fire_Detection\\final_code\\fire.65.png\n",
      "fire.278\n",
      "C:\\Users\\Pallavi\\Desktop\\Forest_Fire_Detection\\final_code\\fire.278.png\n",
      "non_fire.43\n",
      "C:\\Users\\Pallavi\\Desktop\\Forest_Fire_Detection\\final_code\\non_fire.43.png\n",
      "fire.75\n",
      "C:\\Users\\Pallavi\\Desktop\\Forest_Fire_Detection\\final_code\\fire.75.png\n",
      "non_fire.199\n",
      "C:\\Users\\Pallavi\\Desktop\\Forest_Fire_Detection\\final_code\\non_fire.199.png\n",
      "fire.149\n",
      "C:\\Users\\Pallavi\\Desktop\\Forest_Fire_Detection\\final_code\\fire.149.png\n",
      "non_fire.11\n",
      "C:\\Users\\Pallavi\\Desktop\\Forest_Fire_Detection\\final_code\\non_fire.11.png\n",
      "fire.19\n",
      "C:\\Users\\Pallavi\\Desktop\\Forest_Fire_Detection\\final_code\\fire.19.png\n",
      "non_fire.69\n",
      "C:\\Users\\Pallavi\\Desktop\\Forest_Fire_Detection\\final_code\\non_fire.69.png\n",
      "fire.201\n",
      "C:\\Users\\Pallavi\\Desktop\\Forest_Fire_Detection\\final_code\\fire.201.png\n",
      "fire.150\n",
      "C:\\Users\\Pallavi\\Desktop\\Forest_Fire_Detection\\final_code\\fire.150.png\n",
      "non_fire.121\n",
      "C:\\Users\\Pallavi\\Desktop\\Forest_Fire_Detection\\final_code\\non_fire.121.png\n",
      "fire.45\n",
      "C:\\Users\\Pallavi\\Desktop\\Forest_Fire_Detection\\final_code\\fire.45.png\n",
      "fire.316\n",
      "C:\\Users\\Pallavi\\Desktop\\Forest_Fire_Detection\\final_code\\fire.316.png\n",
      "fire.84\n",
      "C:\\Users\\Pallavi\\Desktop\\Forest_Fire_Detection\\final_code\\fire.84.png\n",
      "fire.4\n",
      "C:\\Users\\Pallavi\\Desktop\\Forest_Fire_Detection\\final_code\\fire.4.png\n",
      "fire.293\n",
      "C:\\Users\\Pallavi\\Desktop\\Forest_Fire_Detection\\final_code\\fire.293.png\n",
      "fire.27\n",
      "C:\\Users\\Pallavi\\Desktop\\Forest_Fire_Detection\\final_code\\fire.27.png\n",
      "non_fire.178\n",
      "C:\\Users\\Pallavi\\Desktop\\Forest_Fire_Detection\\final_code\\non_fire.178.png\n",
      "non_fire.45\n",
      "C:\\Users\\Pallavi\\Desktop\\Forest_Fire_Detection\\final_code\\non_fire.45.png\n",
      "fire.103\n",
      "C:\\Users\\Pallavi\\Desktop\\Forest_Fire_Detection\\final_code\\fire.103.png\n",
      "non_fire.41\n",
      "C:\\Users\\Pallavi\\Desktop\\Forest_Fire_Detection\\final_code\\non_fire.41.png\n",
      "fire.259\n",
      "C:\\Users\\Pallavi\\Desktop\\Forest_Fire_Detection\\final_code\\fire.259.png\n",
      "non_fire.128\n",
      "C:\\Users\\Pallavi\\Desktop\\Forest_Fire_Detection\\final_code\\non_fire.128.png\n",
      "fire.234\n",
      "C:\\Users\\Pallavi\\Desktop\\Forest_Fire_Detection\\final_code\\fire.234.png\n",
      "fire.120\n",
      "C:\\Users\\Pallavi\\Desktop\\Forest_Fire_Detection\\final_code\\fire.120.png\n",
      "fire.323\n",
      "C:\\Users\\Pallavi\\Desktop\\Forest_Fire_Detection\\final_code\\fire.323.png\n",
      "fire.240\n",
      "C:\\Users\\Pallavi\\Desktop\\Forest_Fire_Detection\\final_code\\fire.240.png\n",
      "non_fire.138\n",
      "C:\\Users\\Pallavi\\Desktop\\Forest_Fire_Detection\\final_code\\non_fire.138.png\n",
      "fire.268\n",
      "C:\\Users\\Pallavi\\Desktop\\Forest_Fire_Detection\\final_code\\fire.268.png\n",
      "non_fire.123\n",
      "C:\\Users\\Pallavi\\Desktop\\Forest_Fire_Detection\\final_code\\non_fire.123.png\n",
      "fire.22\n",
      "C:\\Users\\Pallavi\\Desktop\\Forest_Fire_Detection\\final_code\\fire.22.png\n",
      "fire.266\n",
      "C:\\Users\\Pallavi\\Desktop\\Forest_Fire_Detection\\final_code\\fire.266.png\n",
      "fire.20\n",
      "C:\\Users\\Pallavi\\Desktop\\Forest_Fire_Detection\\final_code\\fire.20.png\n",
      "fire.74\n",
      "C:\\Users\\Pallavi\\Desktop\\Forest_Fire_Detection\\final_code\\fire.74.png\n",
      "non_fire.173\n",
      "C:\\Users\\Pallavi\\Desktop\\Forest_Fire_Detection\\final_code\\non_fire.173.png\n",
      "non_fire.187\n",
      "C:\\Users\\Pallavi\\Desktop\\Forest_Fire_Detection\\final_code\\non_fire.187.png\n",
      "non_fire.16\n",
      "C:\\Users\\Pallavi\\Desktop\\Forest_Fire_Detection\\final_code\\non_fire.16.png\n",
      "fire.17\n",
      "C:\\Users\\Pallavi\\Desktop\\Forest_Fire_Detection\\final_code\\fire.17.png\n",
      "fire.246\n",
      "C:\\Users\\Pallavi\\Desktop\\Forest_Fire_Detection\\final_code\\fire.246.png\n",
      "fire.98\n",
      "C:\\Users\\Pallavi\\Desktop\\Forest_Fire_Detection\\final_code\\fire.98.png\n",
      "fire.157\n",
      "C:\\Users\\Pallavi\\Desktop\\Forest_Fire_Detection\\final_code\\fire.157.png\n",
      "fire.231\n",
      "C:\\Users\\Pallavi\\Desktop\\Forest_Fire_Detection\\final_code\\fire.231.png\n",
      "non_fire.139\n",
      "C:\\Users\\Pallavi\\Desktop\\Forest_Fire_Detection\\final_code\\non_fire.139.png\n",
      "fire.141\n",
      "C:\\Users\\Pallavi\\Desktop\\Forest_Fire_Detection\\final_code\\fire.141.png\n",
      "non_fire.216\n",
      "C:\\Users\\Pallavi\\Desktop\\Forest_Fire_Detection\\final_code\\non_fire.216.png\n"
     ]
    },
    {
     "name": "stdout",
     "output_type": "stream",
     "text": [
      "fire.173\n",
      "C:\\Users\\Pallavi\\Desktop\\Forest_Fire_Detection\\final_code\\fire.173.png\n",
      "fire.280\n",
      "C:\\Users\\Pallavi\\Desktop\\Forest_Fire_Detection\\final_code\\fire.280.png\n",
      "fire.71\n",
      "C:\\Users\\Pallavi\\Desktop\\Forest_Fire_Detection\\final_code\\fire.71.png\n",
      "non_fire.192\n",
      "C:\\Users\\Pallavi\\Desktop\\Forest_Fire_Detection\\final_code\\non_fire.192.png\n",
      "fire.8\n",
      "C:\\Users\\Pallavi\\Desktop\\Forest_Fire_Detection\\final_code\\fire.8.png\n",
      "non_fire.108\n",
      "C:\\Users\\Pallavi\\Desktop\\Forest_Fire_Detection\\final_code\\non_fire.108.png\n",
      "fire.79\n",
      "C:\\Users\\Pallavi\\Desktop\\Forest_Fire_Detection\\final_code\\fire.79.png\n",
      "fire.97\n",
      "C:\\Users\\Pallavi\\Desktop\\Forest_Fire_Detection\\final_code\\fire.97.png\n",
      "fire.99\n",
      "C:\\Users\\Pallavi\\Desktop\\Forest_Fire_Detection\\final_code\\fire.99.png\n",
      "non_fire.76\n",
      "C:\\Users\\Pallavi\\Desktop\\Forest_Fire_Detection\\final_code\\non_fire.76.png\n",
      "fire.119\n",
      "C:\\Users\\Pallavi\\Desktop\\Forest_Fire_Detection\\final_code\\fire.119.png\n",
      "non_fire.68\n",
      "C:\\Users\\Pallavi\\Desktop\\Forest_Fire_Detection\\final_code\\non_fire.68.png\n",
      "fire.245\n",
      "C:\\Users\\Pallavi\\Desktop\\Forest_Fire_Detection\\final_code\\fire.245.png\n",
      "fire.49\n",
      "C:\\Users\\Pallavi\\Desktop\\Forest_Fire_Detection\\final_code\\fire.49.png\n",
      "fire.129\n",
      "C:\\Users\\Pallavi\\Desktop\\Forest_Fire_Detection\\final_code\\fire.129.png\n",
      "fire.244\n",
      "C:\\Users\\Pallavi\\Desktop\\Forest_Fire_Detection\\final_code\\fire.244.png\n",
      "non_fire.88\n",
      "C:\\Users\\Pallavi\\Desktop\\Forest_Fire_Detection\\final_code\\non_fire.88.png\n",
      "fire.270\n",
      "C:\\Users\\Pallavi\\Desktop\\Forest_Fire_Detection\\final_code\\fire.270.png\n",
      "non_fire.15\n",
      "C:\\Users\\Pallavi\\Desktop\\Forest_Fire_Detection\\final_code\\non_fire.15.png\n",
      "fire.118\n",
      "C:\\Users\\Pallavi\\Desktop\\Forest_Fire_Detection\\final_code\\fire.118.png\n",
      "non_fire.56\n",
      "C:\\Users\\Pallavi\\Desktop\\Forest_Fire_Detection\\final_code\\non_fire.56.png\n",
      "fire.61\n",
      "C:\\Users\\Pallavi\\Desktop\\Forest_Fire_Detection\\final_code\\fire.61.png\n",
      "non_fire.205\n",
      "C:\\Users\\Pallavi\\Desktop\\Forest_Fire_Detection\\final_code\\non_fire.205.png\n",
      "fire.226\n",
      "C:\\Users\\Pallavi\\Desktop\\Forest_Fire_Detection\\final_code\\fire.226.png\n",
      "non_fire.79\n",
      "C:\\Users\\Pallavi\\Desktop\\Forest_Fire_Detection\\final_code\\non_fire.79.png\n"
     ]
    }
   ],
   "source": [
    "import os\n",
    "import cv2\n",
    "import numpy as np\n",
    "\n",
    "image_read_train = []\n",
    "for imageid in x_train_img:\n",
    "    print(imageid)\n",
    "\n",
    "    fileidx = imageid+ '.png'\n",
    "    image_path= os.path.join(\"C:\\\\Users\\\\Pallavi\\\\Desktop\\\\Forest_Fire_Detection\\\\final_code\",fileidx)\n",
    "    print(image_path)\n",
    "    image_pixel = cv2.imread(image_path, cv2.IMREAD_GRAYSCALE)\n",
    "    image_resize = cv2.resize(image_pixel, (64, 64))\n",
    "    image_resize = image_resize.flatten()\n",
    "    image_read_train.append(image_resize)\n",
    "\n",
    "final_image_train = np.asarray(image_read_train)\n"
   ]
  },
  {
   "cell_type": "code",
   "execution_count": 26,
   "metadata": {},
   "outputs": [
    {
     "data": {
      "text/plain": [
       "'C:\\\\Users\\\\Pallavi\\\\Desktop\\\\Forest_Fire_Detection'"
      ]
     },
     "execution_count": 26,
     "metadata": {},
     "output_type": "execute_result"
    }
   ],
   "source": [
    "pwd"
   ]
  },
  {
   "cell_type": "code",
   "execution_count": 27,
   "metadata": {},
   "outputs": [
    {
     "name": "stdout",
     "output_type": "stream",
     "text": [
      "304        fire.196\n",
      "501        fire.299\n",
      "441        fire.218\n",
      "153    non_fire.111\n",
      "503        fire.305\n",
      "           ...     \n",
      "192    non_fire.140\n",
      "66      non_fire.53\n",
      "286    non_fire.209\n",
      "422        fire.188\n",
      "94      non_fire.73\n",
      "Name: Image, Length: 156, dtype: object\n"
     ]
    }
   ],
   "source": [
    "print(x_test_img)"
   ]
  },
  {
   "cell_type": "code",
   "execution_count": 28,
   "metadata": {},
   "outputs": [
    {
     "name": "stdout",
     "output_type": "stream",
     "text": [
      "C:\\Users\\Pallavi\\Desktop\\Forest_Fire_Detection\\final_code\\fire.196.png\n",
      "C:\\Users\\Pallavi\\Desktop\\Forest_Fire_Detection\\final_code\\fire.299.png\n",
      "C:\\Users\\Pallavi\\Desktop\\Forest_Fire_Detection\\final_code\\fire.218.png\n",
      "C:\\Users\\Pallavi\\Desktop\\Forest_Fire_Detection\\final_code\\non_fire.111.png\n",
      "C:\\Users\\Pallavi\\Desktop\\Forest_Fire_Detection\\final_code\\fire.305.png\n",
      "C:\\Users\\Pallavi\\Desktop\\Forest_Fire_Detection\\final_code\\fire.81.png\n",
      "C:\\Users\\Pallavi\\Desktop\\Forest_Fire_Detection\\final_code\\fire.126.png\n",
      "C:\\Users\\Pallavi\\Desktop\\Forest_Fire_Detection\\final_code\\fire.319.png\n",
      "C:\\Users\\Pallavi\\Desktop\\Forest_Fire_Detection\\final_code\\fire.38.png\n",
      "C:\\Users\\Pallavi\\Desktop\\Forest_Fire_Detection\\final_code\\non_fire.182.png\n",
      "C:\\Users\\Pallavi\\Desktop\\Forest_Fire_Detection\\final_code\\fire.310.png\n",
      "C:\\Users\\Pallavi\\Desktop\\Forest_Fire_Detection\\final_code\\fire.88.png\n",
      "C:\\Users\\Pallavi\\Desktop\\Forest_Fire_Detection\\final_code\\non_fire.212.png\n",
      "C:\\Users\\Pallavi\\Desktop\\Forest_Fire_Detection\\final_code\\non_fire.65.png\n",
      "C:\\Users\\Pallavi\\Desktop\\Forest_Fire_Detection\\final_code\\non_fire.8.png\n",
      "C:\\Users\\Pallavi\\Desktop\\Forest_Fire_Detection\\final_code\\fire.36.png\n",
      "C:\\Users\\Pallavi\\Desktop\\Forest_Fire_Detection\\final_code\\non_fire.59.png\n",
      "C:\\Users\\Pallavi\\Desktop\\Forest_Fire_Detection\\final_code\\non_fire.24.png\n",
      "C:\\Users\\Pallavi\\Desktop\\Forest_Fire_Detection\\final_code\\non_fire.136.png\n",
      "C:\\Users\\Pallavi\\Desktop\\Forest_Fire_Detection\\final_code\\non_fire.143.png\n",
      "C:\\Users\\Pallavi\\Desktop\\Forest_Fire_Detection\\final_code\\fire.138.png\n",
      "C:\\Users\\Pallavi\\Desktop\\Forest_Fire_Detection\\final_code\\non_fire.153.png\n",
      "C:\\Users\\Pallavi\\Desktop\\Forest_Fire_Detection\\final_code\\fire.169.png\n",
      "C:\\Users\\Pallavi\\Desktop\\Forest_Fire_Detection\\final_code\\non_fire.152.png\n",
      "C:\\Users\\Pallavi\\Desktop\\Forest_Fire_Detection\\final_code\\non_fire.91.png\n",
      "C:\\Users\\Pallavi\\Desktop\\Forest_Fire_Detection\\final_code\\non_fire.185.png\n",
      "C:\\Users\\Pallavi\\Desktop\\Forest_Fire_Detection\\final_code\\fire.41.png\n",
      "C:\\Users\\Pallavi\\Desktop\\Forest_Fire_Detection\\final_code\\fire.136.png\n",
      "C:\\Users\\Pallavi\\Desktop\\Forest_Fire_Detection\\final_code\\fire.68.png\n",
      "C:\\Users\\Pallavi\\Desktop\\Forest_Fire_Detection\\final_code\\fire.33.png\n",
      "C:\\Users\\Pallavi\\Desktop\\Forest_Fire_Detection\\final_code\\non_fire.179.png\n",
      "C:\\Users\\Pallavi\\Desktop\\Forest_Fire_Detection\\final_code\\fire.50.png\n",
      "C:\\Users\\Pallavi\\Desktop\\Forest_Fire_Detection\\final_code\\non_fire.101.png\n",
      "C:\\Users\\Pallavi\\Desktop\\Forest_Fire_Detection\\final_code\\non_fire.7.png\n",
      "C:\\Users\\Pallavi\\Desktop\\Forest_Fire_Detection\\final_code\\fire.37.png\n",
      "C:\\Users\\Pallavi\\Desktop\\Forest_Fire_Detection\\final_code\\fire.219.png\n",
      "C:\\Users\\Pallavi\\Desktop\\Forest_Fire_Detection\\final_code\\fire.275.png\n",
      "C:\\Users\\Pallavi\\Desktop\\Forest_Fire_Detection\\final_code\\non_fire.163.png\n",
      "C:\\Users\\Pallavi\\Desktop\\Forest_Fire_Detection\\final_code\\non_fire.57.png\n",
      "C:\\Users\\Pallavi\\Desktop\\Forest_Fire_Detection\\final_code\\non_fire.130.png\n",
      "C:\\Users\\Pallavi\\Desktop\\Forest_Fire_Detection\\final_code\\fire.161.png\n",
      "C:\\Users\\Pallavi\\Desktop\\Forest_Fire_Detection\\final_code\\non_fire.55.png\n",
      "C:\\Users\\Pallavi\\Desktop\\Forest_Fire_Detection\\final_code\\non_fire.113.png\n",
      "C:\\Users\\Pallavi\\Desktop\\Forest_Fire_Detection\\final_code\\non_fire.46.png\n",
      "C:\\Users\\Pallavi\\Desktop\\Forest_Fire_Detection\\final_code\\fire.164.png\n",
      "C:\\Users\\Pallavi\\Desktop\\Forest_Fire_Detection\\final_code\\fire.181.png\n",
      "C:\\Users\\Pallavi\\Desktop\\Forest_Fire_Detection\\final_code\\fire.43.png\n",
      "C:\\Users\\Pallavi\\Desktop\\Forest_Fire_Detection\\final_code\\fire.254.png\n",
      "C:\\Users\\Pallavi\\Desktop\\Forest_Fire_Detection\\final_code\\fire.25.png\n",
      "C:\\Users\\Pallavi\\Desktop\\Forest_Fire_Detection\\final_code\\fire.253.png\n",
      "C:\\Users\\Pallavi\\Desktop\\Forest_Fire_Detection\\final_code\\non_fire.70.png\n",
      "C:\\Users\\Pallavi\\Desktop\\Forest_Fire_Detection\\final_code\\non_fire.176.png\n",
      "C:\\Users\\Pallavi\\Desktop\\Forest_Fire_Detection\\final_code\\fire.272.png\n",
      "C:\\Users\\Pallavi\\Desktop\\Forest_Fire_Detection\\final_code\\non_fire.50.png\n",
      "C:\\Users\\Pallavi\\Desktop\\Forest_Fire_Detection\\final_code\\fire.306.png\n",
      "C:\\Users\\Pallavi\\Desktop\\Forest_Fire_Detection\\final_code\\fire.35.png\n",
      "C:\\Users\\Pallavi\\Desktop\\Forest_Fire_Detection\\final_code\\non_fire.2.png\n",
      "C:\\Users\\Pallavi\\Desktop\\Forest_Fire_Detection\\final_code\\non_fire.210.png\n",
      "C:\\Users\\Pallavi\\Desktop\\Forest_Fire_Detection\\final_code\\fire.67.png\n",
      "C:\\Users\\Pallavi\\Desktop\\Forest_Fire_Detection\\final_code\\non_fire.99.png\n",
      "C:\\Users\\Pallavi\\Desktop\\Forest_Fire_Detection\\final_code\\non_fire.184.png\n",
      "C:\\Users\\Pallavi\\Desktop\\Forest_Fire_Detection\\final_code\\non_fire.142.png\n",
      "C:\\Users\\Pallavi\\Desktop\\Forest_Fire_Detection\\final_code\\non_fire.126.png\n",
      "C:\\Users\\Pallavi\\Desktop\\Forest_Fire_Detection\\final_code\\non_fire.63.png\n",
      "C:\\Users\\Pallavi\\Desktop\\Forest_Fire_Detection\\final_code\\fire.236.png\n",
      "C:\\Users\\Pallavi\\Desktop\\Forest_Fire_Detection\\final_code\\fire.26.png\n",
      "C:\\Users\\Pallavi\\Desktop\\Forest_Fire_Detection\\final_code\\non_fire.27.png\n",
      "C:\\Users\\Pallavi\\Desktop\\Forest_Fire_Detection\\final_code\\fire.195.png\n",
      "C:\\Users\\Pallavi\\Desktop\\Forest_Fire_Detection\\final_code\\non_fire.165.png\n",
      "C:\\Users\\Pallavi\\Desktop\\Forest_Fire_Detection\\final_code\\fire.1.png\n",
      "C:\\Users\\Pallavi\\Desktop\\Forest_Fire_Detection\\final_code\\non_fire.9.png\n",
      "C:\\Users\\Pallavi\\Desktop\\Forest_Fire_Detection\\final_code\\non_fire.175.png\n",
      "C:\\Users\\Pallavi\\Desktop\\Forest_Fire_Detection\\final_code\\fire.12.png\n",
      "C:\\Users\\Pallavi\\Desktop\\Forest_Fire_Detection\\final_code\\fire.53.png\n",
      "C:\\Users\\Pallavi\\Desktop\\Forest_Fire_Detection\\final_code\\fire.177.png\n",
      "C:\\Users\\Pallavi\\Desktop\\Forest_Fire_Detection\\final_code\\non_fire.78.png\n",
      "C:\\Users\\Pallavi\\Desktop\\Forest_Fire_Detection\\final_code\\non_fire.60.png\n",
      "C:\\Users\\Pallavi\\Desktop\\Forest_Fire_Detection\\final_code\\fire.203.png\n",
      "C:\\Users\\Pallavi\\Desktop\\Forest_Fire_Detection\\final_code\\fire.205.png\n",
      "C:\\Users\\Pallavi\\Desktop\\Forest_Fire_Detection\\final_code\\fire.9.png\n",
      "C:\\Users\\Pallavi\\Desktop\\Forest_Fire_Detection\\final_code\\fire.111.png\n",
      "C:\\Users\\Pallavi\\Desktop\\Forest_Fire_Detection\\final_code\\non_fire.169.png\n",
      "C:\\Users\\Pallavi\\Desktop\\Forest_Fire_Detection\\final_code\\fire.312.png\n",
      "C:\\Users\\Pallavi\\Desktop\\Forest_Fire_Detection\\final_code\\fire.82.png\n",
      "C:\\Users\\Pallavi\\Desktop\\Forest_Fire_Detection\\final_code\\fire.14.png\n",
      "C:\\Users\\Pallavi\\Desktop\\Forest_Fire_Detection\\final_code\\fire.243.png\n",
      "C:\\Users\\Pallavi\\Desktop\\Forest_Fire_Detection\\final_code\\non_fire.39.png\n",
      "C:\\Users\\Pallavi\\Desktop\\Forest_Fire_Detection\\final_code\\fire.94.png\n",
      "C:\\Users\\Pallavi\\Desktop\\Forest_Fire_Detection\\final_code\\fire.158.png\n",
      "C:\\Users\\Pallavi\\Desktop\\Forest_Fire_Detection\\final_code\\fire.102.png\n",
      "C:\\Users\\Pallavi\\Desktop\\Forest_Fire_Detection\\final_code\\non_fire.72.png\n",
      "C:\\Users\\Pallavi\\Desktop\\Forest_Fire_Detection\\final_code\\fire.237.png\n",
      "C:\\Users\\Pallavi\\Desktop\\Forest_Fire_Detection\\final_code\\non_fire.148.png\n",
      "C:\\Users\\Pallavi\\Desktop\\Forest_Fire_Detection\\final_code\\fire.232.png\n",
      "C:\\Users\\Pallavi\\Desktop\\Forest_Fire_Detection\\final_code\\non_fire.107.png\n",
      "C:\\Users\\Pallavi\\Desktop\\Forest_Fire_Detection\\final_code\\non_fire.160.png\n",
      "C:\\Users\\Pallavi\\Desktop\\Forest_Fire_Detection\\final_code\\fire.34.png\n",
      "C:\\Users\\Pallavi\\Desktop\\Forest_Fire_Detection\\final_code\\non_fire.188.png\n",
      "C:\\Users\\Pallavi\\Desktop\\Forest_Fire_Detection\\final_code\\fire.156.png\n",
      "C:\\Users\\Pallavi\\Desktop\\Forest_Fire_Detection\\final_code\\non_fire.122.png\n",
      "C:\\Users\\Pallavi\\Desktop\\Forest_Fire_Detection\\final_code\\fire.154.png\n",
      "C:\\Users\\Pallavi\\Desktop\\Forest_Fire_Detection\\final_code\\fire.314.png\n",
      "C:\\Users\\Pallavi\\Desktop\\Forest_Fire_Detection\\final_code\\fire.322.png\n",
      "C:\\Users\\Pallavi\\Desktop\\Forest_Fire_Detection\\final_code\\fire.29.png\n",
      "C:\\Users\\Pallavi\\Desktop\\Forest_Fire_Detection\\final_code\\fire.47.png\n",
      "C:\\Users\\Pallavi\\Desktop\\Forest_Fire_Detection\\final_code\\non_fire.127.png\n",
      "C:\\Users\\Pallavi\\Desktop\\Forest_Fire_Detection\\final_code\\non_fire.207.png\n",
      "C:\\Users\\Pallavi\\Desktop\\Forest_Fire_Detection\\final_code\\fire.292.png\n",
      "C:\\Users\\Pallavi\\Desktop\\Forest_Fire_Detection\\final_code\\fire.112.png\n",
      "C:\\Users\\Pallavi\\Desktop\\Forest_Fire_Detection\\final_code\\non_fire.203.png\n",
      "C:\\Users\\Pallavi\\Desktop\\Forest_Fire_Detection\\final_code\\fire.87.png\n",
      "C:\\Users\\Pallavi\\Desktop\\Forest_Fire_Detection\\final_code\\fire.72.png\n",
      "C:\\Users\\Pallavi\\Desktop\\Forest_Fire_Detection\\final_code\\fire.206.png\n",
      "C:\\Users\\Pallavi\\Desktop\\Forest_Fire_Detection\\final_code\\fire.52.png\n",
      "C:\\Users\\Pallavi\\Desktop\\Forest_Fire_Detection\\final_code\\fire.239.png\n",
      "C:\\Users\\Pallavi\\Desktop\\Forest_Fire_Detection\\final_code\\fire.251.png\n",
      "C:\\Users\\Pallavi\\Desktop\\Forest_Fire_Detection\\final_code\\fire.92.png\n",
      "C:\\Users\\Pallavi\\Desktop\\Forest_Fire_Detection\\final_code\\non_fire.67.png\n",
      "C:\\Users\\Pallavi\\Desktop\\Forest_Fire_Detection\\final_code\\fire.215.png\n",
      "C:\\Users\\Pallavi\\Desktop\\Forest_Fire_Detection\\final_code\\fire.39.png\n",
      "C:\\Users\\Pallavi\\Desktop\\Forest_Fire_Detection\\final_code\\fire.233.png\n",
      "C:\\Users\\Pallavi\\Desktop\\Forest_Fire_Detection\\final_code\\non_fire.13.png\n",
      "C:\\Users\\Pallavi\\Desktop\\Forest_Fire_Detection\\final_code\\non_fire.154.png\n",
      "C:\\Users\\Pallavi\\Desktop\\Forest_Fire_Detection\\final_code\\non_fire.133.png\n",
      "C:\\Users\\Pallavi\\Desktop\\Forest_Fire_Detection\\final_code\\fire.155.png\n",
      "C:\\Users\\Pallavi\\Desktop\\Forest_Fire_Detection\\final_code\\fire.11.png\n",
      "C:\\Users\\Pallavi\\Desktop\\Forest_Fire_Detection\\final_code\\fire.307.png\n",
      "C:\\Users\\Pallavi\\Desktop\\Forest_Fire_Detection\\final_code\\fire.66.png\n",
      "C:\\Users\\Pallavi\\Desktop\\Forest_Fire_Detection\\final_code\\non_fire.47.png\n",
      "C:\\Users\\Pallavi\\Desktop\\Forest_Fire_Detection\\final_code\\fire.163.png\n",
      "C:\\Users\\Pallavi\\Desktop\\Forest_Fire_Detection\\final_code\\fire.222.png\n",
      "C:\\Users\\Pallavi\\Desktop\\Forest_Fire_Detection\\final_code\\fire.324.png\n",
      "C:\\Users\\Pallavi\\Desktop\\Forest_Fire_Detection\\final_code\\non_fire.112.png\n",
      "C:\\Users\\Pallavi\\Desktop\\Forest_Fire_Detection\\final_code\\non_fire.19.png\n",
      "C:\\Users\\Pallavi\\Desktop\\Forest_Fire_Detection\\final_code\\non_fire.200.png\n",
      "C:\\Users\\Pallavi\\Desktop\\Forest_Fire_Detection\\final_code\\non_fire.35.png\n",
      "C:\\Users\\Pallavi\\Desktop\\Forest_Fire_Detection\\final_code\\fire.16.png\n"
     ]
    },
    {
     "name": "stdout",
     "output_type": "stream",
     "text": [
      "C:\\Users\\Pallavi\\Desktop\\Forest_Fire_Detection\\final_code\\fire.172.png\n",
      "C:\\Users\\Pallavi\\Desktop\\Forest_Fire_Detection\\final_code\\fire.241.png\n",
      "C:\\Users\\Pallavi\\Desktop\\Forest_Fire_Detection\\final_code\\fire.176.png\n",
      "C:\\Users\\Pallavi\\Desktop\\Forest_Fire_Detection\\final_code\\fire.77.png\n",
      "C:\\Users\\Pallavi\\Desktop\\Forest_Fire_Detection\\final_code\\fire.56.png\n",
      "C:\\Users\\Pallavi\\Desktop\\Forest_Fire_Detection\\final_code\\non_fire.25.png\n",
      "C:\\Users\\Pallavi\\Desktop\\Forest_Fire_Detection\\final_code\\non_fire.85.png\n",
      "C:\\Users\\Pallavi\\Desktop\\Forest_Fire_Detection\\final_code\\non_fire.190.png\n",
      "C:\\Users\\Pallavi\\Desktop\\Forest_Fire_Detection\\final_code\\non_fire.159.png\n",
      "C:\\Users\\Pallavi\\Desktop\\Forest_Fire_Detection\\final_code\\fire.179.png\n",
      "C:\\Users\\Pallavi\\Desktop\\Forest_Fire_Detection\\final_code\\non_fire.48.png\n",
      "C:\\Users\\Pallavi\\Desktop\\Forest_Fire_Detection\\final_code\\fire.153.png\n",
      "C:\\Users\\Pallavi\\Desktop\\Forest_Fire_Detection\\final_code\\non_fire.18.png\n",
      "C:\\Users\\Pallavi\\Desktop\\Forest_Fire_Detection\\final_code\\non_fire.14.png\n",
      "C:\\Users\\Pallavi\\Desktop\\Forest_Fire_Detection\\final_code\\non_fire.140.png\n",
      "C:\\Users\\Pallavi\\Desktop\\Forest_Fire_Detection\\final_code\\non_fire.53.png\n",
      "C:\\Users\\Pallavi\\Desktop\\Forest_Fire_Detection\\final_code\\non_fire.209.png\n",
      "C:\\Users\\Pallavi\\Desktop\\Forest_Fire_Detection\\final_code\\fire.188.png\n",
      "C:\\Users\\Pallavi\\Desktop\\Forest_Fire_Detection\\final_code\\non_fire.73.png\n"
     ]
    }
   ],
   "source": [
    "import os\n",
    "import cv2\n",
    "import numpy as np\n",
    "\n",
    "image_read_test = []\n",
    "for imageid in x_test_img:\n",
    "    \n",
    "\n",
    "    fileidx = imageid+ '.png'\n",
    "    image_path= os.path.join(\"C:\\\\Users\\\\Pallavi\\\\Desktop\\\\Forest_Fire_Detection\\\\final_code\",fileidx)\n",
    "\n",
    "    print(image_path)\n",
    "    image_pixel = cv2.imread(image_path, cv2.IMREAD_GRAYSCALE)\n",
    "    image_resize = cv2.resize(image_pixel, (64, 64))\n",
    "    image_resize = image_resize.flatten()\n",
    "    image_read_test.append(image_resize)\n",
    "final_image_test = np.asarray(image_read_test)"
   ]
  },
  {
   "cell_type": "code",
   "execution_count": 29,
   "metadata": {
    "colab": {
     "base_uri": "https://localhost:8080/"
    },
    "id": "CbCYhhrmDhx1",
    "outputId": "2bb51802-3bcc-455a-8e56-47b5dabb22c6"
   },
   "outputs": [
    {
     "name": "stdout",
     "output_type": "stream",
     "text": [
      "(361, 4096) (156, 4096)\n"
     ]
    }
   ],
   "source": [
    "print(final_image_train.shape, final_image_test.shape)"
   ]
  },
  {
   "cell_type": "code",
   "execution_count": 30,
   "metadata": {
    "colab": {
     "base_uri": "https://localhost:8080/"
    },
    "id": "GWIoAhvNCJmv",
    "outputId": "2d811284-2687-4864-a585-715d5d88db80"
   },
   "outputs": [
    {
     "name": "stdout",
     "output_type": "stream",
     "text": [
      "Model: \"model_1\"\n",
      "_________________________________________________________________\n",
      "Layer (type)                 Output Shape              Param #   \n",
      "=================================================================\n",
      "input_2 (InputLayer)         [(None, 4096)]            0         \n",
      "_________________________________________________________________\n",
      "dense_3 (Dense)              (None, 1024)              4195328   \n",
      "_________________________________________________________________\n",
      "dense_4 (Dense)              (None, 64)                65600     \n",
      "_________________________________________________________________\n",
      "dense_5 (Dense)              (None, 3)                 195       \n",
      "=================================================================\n",
      "Total params: 4,261,123\n",
      "Trainable params: 4,261,123\n",
      "Non-trainable params: 0\n",
      "_________________________________________________________________\n"
     ]
    }
   ],
   "source": [
    "from keras.models import Sequential, Model\n",
    "from keras.layers import Dense\n",
    "from keras.layers import Input\n",
    "image_input = Input(shape=(4096,))\n",
    "\n",
    "\n",
    "Dense1_i = Dense(1024, activation='relu')(image_input)\n",
    "Dense2_i = Dense(64, activation='relu')(Dense1_i)\n",
    "output_i = Dense(3, activation='softmax')(Dense2_i)\n",
    "\n",
    "model_image = Model(inputs = image_input, outputs = output_i)\n",
    "model_image.summary()\n"
   ]
  },
  {
   "cell_type": "code",
   "execution_count": 31,
   "metadata": {
    "id": "s3UHI3UkCJpA"
   },
   "outputs": [],
   "source": [
    "model_image.compile(optimizer = 'Adam', loss = 'categorical_crossentropy', metrics=['accuracy'])"
   ]
  },
  {
   "cell_type": "code",
   "execution_count": 32,
   "metadata": {
    "colab": {
     "base_uri": "https://localhost:8080/"
    },
    "id": "T0w4b0iUCJrF",
    "outputId": "3135248a-f44f-4a37-826a-0afdbed019c0"
   },
   "outputs": [
    {
     "name": "stdout",
     "output_type": "stream",
     "text": [
      "Epoch 1/80\n",
      "12/12 - 1s - loss: 456.0967 - accuracy: 0.3296 - val_loss: 248.5082 - val_accuracy: 0.4487\n",
      "Epoch 2/80\n",
      "12/12 - 0s - loss: 200.6248 - accuracy: 0.4377 - val_loss: 88.8014 - val_accuracy: 0.5000\n",
      "Epoch 3/80\n",
      "12/12 - 0s - loss: 87.2327 - accuracy: 0.5263 - val_loss: 72.1993 - val_accuracy: 0.4231\n",
      "Epoch 4/80\n",
      "12/12 - 0s - loss: 57.0738 - accuracy: 0.5097 - val_loss: 57.7630 - val_accuracy: 0.5128\n",
      "Epoch 5/80\n",
      "12/12 - 0s - loss: 35.2963 - accuracy: 0.5623 - val_loss: 32.7626 - val_accuracy: 0.4487\n",
      "Epoch 6/80\n",
      "12/12 - 1s - loss: 17.8048 - accuracy: 0.6454 - val_loss: 42.3494 - val_accuracy: 0.3590\n",
      "Epoch 7/80\n",
      "12/12 - 0s - loss: 18.9369 - accuracy: 0.6205 - val_loss: 24.8846 - val_accuracy: 0.5705\n",
      "Epoch 8/80\n",
      "12/12 - 0s - loss: 23.6764 - accuracy: 0.6094 - val_loss: 26.1365 - val_accuracy: 0.4808\n",
      "Epoch 9/80\n",
      "12/12 - 0s - loss: 13.0971 - accuracy: 0.6814 - val_loss: 30.1121 - val_accuracy: 0.5385\n",
      "Epoch 10/80\n",
      "12/12 - 0s - loss: 15.8327 - accuracy: 0.6953 - val_loss: 23.4504 - val_accuracy: 0.5064\n",
      "Epoch 11/80\n",
      "12/12 - 0s - loss: 8.5103 - accuracy: 0.7618 - val_loss: 23.2821 - val_accuracy: 0.4295\n",
      "Epoch 12/80\n",
      "12/12 - 1s - loss: 5.3887 - accuracy: 0.8033 - val_loss: 36.0215 - val_accuracy: 0.5385\n",
      "Epoch 13/80\n",
      "12/12 - 0s - loss: 12.7696 - accuracy: 0.7008 - val_loss: 29.6843 - val_accuracy: 0.4744\n",
      "Epoch 14/80\n",
      "12/12 - 0s - loss: 13.9660 - accuracy: 0.7008 - val_loss: 73.1355 - val_accuracy: 0.4872\n",
      "Epoch 15/80\n",
      "12/12 - 0s - loss: 31.5438 - accuracy: 0.5900 - val_loss: 43.1827 - val_accuracy: 0.4808\n",
      "Epoch 16/80\n",
      "12/12 - 0s - loss: 17.9335 - accuracy: 0.7091 - val_loss: 46.9708 - val_accuracy: 0.4231\n",
      "Epoch 17/80\n",
      "12/12 - 0s - loss: 11.2517 - accuracy: 0.7645 - val_loss: 50.1908 - val_accuracy: 0.5128\n",
      "Epoch 18/80\n",
      "12/12 - 1s - loss: 11.9902 - accuracy: 0.7452 - val_loss: 61.9954 - val_accuracy: 0.3910\n",
      "Epoch 19/80\n",
      "12/12 - 0s - loss: 7.0153 - accuracy: 0.8144 - val_loss: 48.8447 - val_accuracy: 0.3910\n",
      "Epoch 20/80\n",
      "12/12 - 0s - loss: 3.2959 - accuracy: 0.8615 - val_loss: 51.2516 - val_accuracy: 0.4231\n",
      "Epoch 21/80\n",
      "12/12 - 0s - loss: 4.3895 - accuracy: 0.8449 - val_loss: 42.2162 - val_accuracy: 0.3397\n",
      "Epoch 22/80\n",
      "12/12 - 0s - loss: 4.1882 - accuracy: 0.8393 - val_loss: 41.5110 - val_accuracy: 0.4231\n",
      "Epoch 23/80\n",
      "12/12 - 0s - loss: 3.6865 - accuracy: 0.8449 - val_loss: 48.5649 - val_accuracy: 0.4103\n",
      "Epoch 24/80\n",
      "12/12 - 1s - loss: 7.0714 - accuracy: 0.7895 - val_loss: 49.4199 - val_accuracy: 0.4808\n",
      "Epoch 25/80\n",
      "12/12 - 0s - loss: 5.6129 - accuracy: 0.8504 - val_loss: 77.4295 - val_accuracy: 0.3462\n",
      "Epoch 26/80\n",
      "12/12 - 0s - loss: 13.1706 - accuracy: 0.7701 - val_loss: 71.8445 - val_accuracy: 0.3782\n",
      "Epoch 27/80\n",
      "12/12 - 0s - loss: 36.6975 - accuracy: 0.5873 - val_loss: 86.9701 - val_accuracy: 0.3013\n",
      "Epoch 28/80\n",
      "12/12 - 0s - loss: 65.8447 - accuracy: 0.5402 - val_loss: 58.1272 - val_accuracy: 0.5449\n",
      "Epoch 29/80\n",
      "12/12 - 1s - loss: 32.6096 - accuracy: 0.6620 - val_loss: 86.5337 - val_accuracy: 0.3654\n",
      "Epoch 30/80\n",
      "12/12 - 0s - loss: 20.8805 - accuracy: 0.7341 - val_loss: 102.2593 - val_accuracy: 0.2821\n",
      "Epoch 31/80\n",
      "12/12 - 0s - loss: 18.4385 - accuracy: 0.7424 - val_loss: 30.6953 - val_accuracy: 0.5000\n",
      "Epoch 32/80\n",
      "12/12 - 0s - loss: 16.0851 - accuracy: 0.7313 - val_loss: 42.8484 - val_accuracy: 0.4744\n",
      "Epoch 33/80\n",
      "12/12 - 0s - loss: 17.2607 - accuracy: 0.7368 - val_loss: 93.0144 - val_accuracy: 0.3654\n",
      "Epoch 34/80\n",
      "12/12 - 0s - loss: 7.7571 - accuracy: 0.8393 - val_loss: 44.1926 - val_accuracy: 0.4295\n",
      "Epoch 35/80\n",
      "12/12 - 1s - loss: 4.6235 - accuracy: 0.8781 - val_loss: 69.7584 - val_accuracy: 0.3654\n",
      "Epoch 36/80\n",
      "12/12 - 0s - loss: 10.6513 - accuracy: 0.7839 - val_loss: 34.2093 - val_accuracy: 0.5064\n",
      "Epoch 37/80\n",
      "12/12 - 0s - loss: 5.2354 - accuracy: 0.8449 - val_loss: 44.9841 - val_accuracy: 0.4744\n",
      "Epoch 38/80\n",
      "12/12 - 0s - loss: 6.0390 - accuracy: 0.8172 - val_loss: 34.3460 - val_accuracy: 0.5000\n",
      "Epoch 39/80\n",
      "12/12 - 0s - loss: 9.5523 - accuracy: 0.7784 - val_loss: 28.5353 - val_accuracy: 0.5577\n",
      "Epoch 40/80\n",
      "12/12 - 1s - loss: 3.4835 - accuracy: 0.8892 - val_loss: 54.7043 - val_accuracy: 0.4038\n",
      "Epoch 41/80\n",
      "12/12 - 0s - loss: 8.3791 - accuracy: 0.7922 - val_loss: 39.8962 - val_accuracy: 0.5897\n",
      "Epoch 42/80\n",
      "12/12 - 0s - loss: 5.3755 - accuracy: 0.8837 - val_loss: 83.8405 - val_accuracy: 0.3718\n",
      "Epoch 43/80\n",
      "12/12 - 0s - loss: 4.0455 - accuracy: 0.8587 - val_loss: 29.6166 - val_accuracy: 0.5577\n",
      "Epoch 44/80\n",
      "12/12 - 0s - loss: 0.7796 - accuracy: 0.9501 - val_loss: 30.7358 - val_accuracy: 0.5449\n",
      "Epoch 45/80\n",
      "12/12 - 1s - loss: 0.6687 - accuracy: 0.9584 - val_loss: 29.7794 - val_accuracy: 0.5192\n",
      "Epoch 46/80\n",
      "12/12 - 0s - loss: 0.4670 - accuracy: 0.9751 - val_loss: 38.2948 - val_accuracy: 0.4487\n",
      "Epoch 47/80\n",
      "12/12 - 0s - loss: 0.2131 - accuracy: 0.9834 - val_loss: 30.1083 - val_accuracy: 0.5192\n",
      "Epoch 48/80\n",
      "12/12 - 0s - loss: 0.0312 - accuracy: 0.9917 - val_loss: 33.6637 - val_accuracy: 0.4744\n",
      "Epoch 49/80\n",
      "12/12 - 0s - loss: 0.1098 - accuracy: 0.9861 - val_loss: 28.4098 - val_accuracy: 0.5256\n",
      "Epoch 50/80\n",
      "12/12 - 0s - loss: 0.0014 - accuracy: 1.0000 - val_loss: 28.6097 - val_accuracy: 0.5064\n",
      "Epoch 51/80\n",
      "12/12 - 1s - loss: 1.3957e-06 - accuracy: 1.0000 - val_loss: 28.7234 - val_accuracy: 0.5128\n",
      "Epoch 52/80\n",
      "12/12 - 0s - loss: 2.0482e-06 - accuracy: 1.0000 - val_loss: 28.7619 - val_accuracy: 0.5000\n",
      "Epoch 53/80\n",
      "12/12 - 0s - loss: 2.3244e-06 - accuracy: 1.0000 - val_loss: 28.7723 - val_accuracy: 0.5000\n",
      "Epoch 54/80\n",
      "12/12 - 0s - loss: 2.4465e-06 - accuracy: 1.0000 - val_loss: 28.7737 - val_accuracy: 0.5000\n",
      "Epoch 55/80\n",
      "12/12 - 0s - loss: 2.4452e-06 - accuracy: 1.0000 - val_loss: 28.7731 - val_accuracy: 0.5000\n",
      "Epoch 56/80\n",
      "12/12 - 1s - loss: 2.4251e-06 - accuracy: 1.0000 - val_loss: 28.7714 - val_accuracy: 0.5000\n",
      "Epoch 57/80\n",
      "12/12 - 0s - loss: 2.4016e-06 - accuracy: 1.0000 - val_loss: 28.7699 - val_accuracy: 0.5000\n",
      "Epoch 58/80\n",
      "12/12 - 0s - loss: 2.3766e-06 - accuracy: 1.0000 - val_loss: 28.7677 - val_accuracy: 0.5000\n",
      "Epoch 59/80\n",
      "12/12 - 0s - loss: 2.3564e-06 - accuracy: 1.0000 - val_loss: 28.7659 - val_accuracy: 0.5000\n",
      "Epoch 60/80\n",
      "12/12 - 0s - loss: 2.3231e-06 - accuracy: 1.0000 - val_loss: 28.7642 - val_accuracy: 0.5000\n",
      "Epoch 61/80\n",
      "12/12 - 0s - loss: 2.2977e-06 - accuracy: 1.0000 - val_loss: 28.7626 - val_accuracy: 0.5000\n",
      "Epoch 62/80\n",
      "12/12 - 1s - loss: 2.2350e-06 - accuracy: 1.0000 - val_loss: 28.7592 - val_accuracy: 0.5064\n",
      "Epoch 63/80\n",
      "12/12 - 0s - loss: 2.2040e-06 - accuracy: 1.0000 - val_loss: 28.7566 - val_accuracy: 0.5064\n",
      "Epoch 64/80\n",
      "12/12 - 0s - loss: 2.1726e-06 - accuracy: 1.0000 - val_loss: 28.7547 - val_accuracy: 0.5064\n",
      "Epoch 65/80\n",
      "12/12 - 0s - loss: 2.1512e-06 - accuracy: 1.0000 - val_loss: 28.7522 - val_accuracy: 0.5064\n",
      "Epoch 66/80\n",
      "12/12 - 0s - loss: 2.1291e-06 - accuracy: 1.0000 - val_loss: 28.7501 - val_accuracy: 0.5064\n",
      "Epoch 67/80\n",
      "12/12 - 0s - loss: 2.1053e-06 - accuracy: 1.0000 - val_loss: 28.7485 - val_accuracy: 0.5064\n",
      "Epoch 68/80\n",
      "12/12 - 1s - loss: 2.0812e-06 - accuracy: 1.0000 - val_loss: 28.7470 - val_accuracy: 0.5064\n",
      "Epoch 69/80\n",
      "12/12 - 0s - loss: 2.0640e-06 - accuracy: 1.0000 - val_loss: 28.7449 - val_accuracy: 0.5064\n",
      "Epoch 70/80\n",
      "12/12 - 0s - loss: 2.0452e-06 - accuracy: 1.0000 - val_loss: 28.7426 - val_accuracy: 0.5064\n",
      "Epoch 71/80\n",
      "12/12 - 0s - loss: 2.0182e-06 - accuracy: 1.0000 - val_loss: 28.7411 - val_accuracy: 0.5064\n",
      "Epoch 72/80\n",
      "12/12 - 0s - loss: 1.9994e-06 - accuracy: 1.0000 - val_loss: 28.7394 - val_accuracy: 0.5064\n",
      "Epoch 73/80\n",
      "12/12 - 1s - loss: 1.9888e-06 - accuracy: 1.0000 - val_loss: 28.7377 - val_accuracy: 0.5064\n",
      "Epoch 74/80\n",
      "12/12 - 1s - loss: 1.9617e-06 - accuracy: 1.0000 - val_loss: 28.7361 - val_accuracy: 0.5064\n",
      "Epoch 75/80\n",
      "12/12 - 0s - loss: 1.9393e-06 - accuracy: 1.0000 - val_loss: 28.7344 - val_accuracy: 0.5064\n",
      "Epoch 76/80\n",
      "12/12 - 0s - loss: 1.8921e-06 - accuracy: 1.0000 - val_loss: 28.7305 - val_accuracy: 0.5128\n",
      "Epoch 77/80\n",
      "12/12 - 0s - loss: 1.8624e-06 - accuracy: 1.0000 - val_loss: 28.7279 - val_accuracy: 0.5128\n",
      "Epoch 78/80\n",
      "12/12 - 0s - loss: 1.8191e-06 - accuracy: 1.0000 - val_loss: 28.7247 - val_accuracy: 0.5128\n",
      "Epoch 79/80\n",
      "12/12 - 1s - loss: 1.7951e-06 - accuracy: 1.0000 - val_loss: 28.7218 - val_accuracy: 0.5128\n",
      "Epoch 80/80\n",
      "12/12 - 0s - loss: 1.7723e-06 - accuracy: 1.0000 - val_loss: 28.7197 - val_accuracy: 0.5128\n"
     ]
    }
   ],
   "source": [
    "seqModel =model_image.fit(final_image_train,y_train_final, validation_data=(final_image_test,y_test_final), epochs= 80, verbose= 2)\n"
   ]
  },
  {
   "cell_type": "code",
   "execution_count": 33,
   "metadata": {},
   "outputs": [],
   "source": [
    "y_pred_img = model_image.predict(final_image_test)"
   ]
  },
  {
   "cell_type": "code",
   "execution_count": 34,
   "metadata": {},
   "outputs": [],
   "source": [
    "y_classes_act_img = [np.argmax(y, axis=None, out=None) for y in y_test_final]\n",
    "y_classes_pred_img = [np.argmax(y, axis=None, out=None) for y in y_pred_img]"
   ]
  },
  {
   "cell_type": "code",
   "execution_count": 35,
   "metadata": {},
   "outputs": [
    {
     "data": {
      "text/plain": [
       "array([[31, 14, 24],\n",
       "       [ 7, 17, 10],\n",
       "       [ 8, 13, 32]], dtype=int64)"
      ]
     },
     "execution_count": 35,
     "metadata": {},
     "output_type": "execute_result"
    }
   ],
   "source": [
    "# Importing the dependancies\n",
    "from sklearn.metrics import classification_report, confusion_matrix\n",
    "\n",
    "\n",
    "confusion_matrix(y_classes_act_img, y_classes_pred_img)"
   ]
  },
  {
   "cell_type": "code",
   "execution_count": 36,
   "metadata": {},
   "outputs": [
    {
     "data": {
      "text/plain": [
       "0.5150417215634607"
      ]
     },
     "execution_count": 36,
     "metadata": {},
     "output_type": "execute_result"
    }
   ],
   "source": [
    "precision_score(y_classes_act_img, y_classes_pred_img, average='macro')      "
   ]
  },
  {
   "cell_type": "code",
   "execution_count": 37,
   "metadata": {},
   "outputs": [
    {
     "data": {
      "text/plain": [
       "0.504280998910155"
      ]
     },
     "execution_count": 37,
     "metadata": {},
     "output_type": "execute_result"
    }
   ],
   "source": [
    "f1_score(y_classes_act_img, y_classes_pred_img, average='macro') "
   ]
  },
  {
   "cell_type": "code",
   "execution_count": 38,
   "metadata": {},
   "outputs": [
    {
     "data": {
      "text/plain": [
       "0.517682982408167"
      ]
     },
     "execution_count": 38,
     "metadata": {},
     "output_type": "execute_result"
    }
   ],
   "source": [
    "recall_score(y_classes_act_img, y_classes_pred_img, average='macro')"
   ]
  },
  {
   "cell_type": "code",
   "execution_count": 39,
   "metadata": {},
   "outputs": [
    {
     "data": {
      "image/png": "[encoded data removed]",
      "text/plain": [
       "<Figure size 432x288 with 1 Axes>"
      ]
     },
     "metadata": {
      "needs_background": "light"
     },
     "output_type": "display_data"
    }
   ],
   "source": [
    "from keras.models import Sequential\n",
    "train_loss = seqModel.history['loss']\n",
    "val_loss   = seqModel.history['val_loss']\n",
    "train_acc  = seqModel.history['accuracy']\n",
    "val_acc    = seqModel.history['val_accuracy']\n",
    "xc         = range(80)\n",
    "\n",
    "plt.plot(xc, train_loss, label = \"Traning Loss\")\n",
    "plt.plot(xc, val_loss,label=\"Validation Loss\")\n",
    "plt.legend()\n",
    "plt.savefig('seqloss.png')\n",
    "\n",
    "plt.show()\n"
   ]
  },
  {
   "cell_type": "code",
   "execution_count": 40,
   "metadata": {},
   "outputs": [
    {
     "data": {
      "image/png": "[encoded data removed]",
      "text/plain": [
       "<Figure size 432x288 with 1 Axes>"
      ]
     },
     "metadata": {
      "needs_background": "light"
     },
     "output_type": "display_data"
    }
   ],
   "source": [
    "from keras.models import Sequential\n",
    "train_loss = seqModel.history['loss']\n",
    "val_loss   = seqModel.history['val_loss']\n",
    "train_acc  = seqModel.history['accuracy']\n",
    "val_acc    = seqModel.history['val_accuracy']\n",
    "xc         = range(80)\n",
    "\n",
    "plt.plot(xc, train_acc, label = \"Traning Accuracy\")\n",
    "plt.plot(xc, val_acc,label=\"Validation Accuracy\")\n",
    "plt.legend()\n",
    "plt.savefig('seqacc.png')\n",
    "\n",
    "plt.show()\n"
   ]
  },
  {
   "cell_type": "code",
   "execution_count": 41,
   "metadata": {
    "id": "imtPwKURLFl0"
   },
   "outputs": [],
   "source": [
    "from keras.layers import Dense,Input,Dropout, concatenate,Concatenate\n",
    "combined = concatenate([Dense2_s, Dense2_i])\n",
    "combined5 = Dense(3, activation = 'softmax')(combined)\n",
    "\n",
    "model_combined = Model(inputs = [sequence_input, image_input], outputs = combined5)"
   ]
  },
  {
   "cell_type": "code",
   "execution_count": 42,
   "metadata": {
    "colab": {
     "base_uri": "https://localhost:8080/"
    },
    "id": "U0ZUjR0DOmbn",
    "outputId": "f3d3fc5c-ea57-4a21-f980-7258ffa23346"
   },
   "outputs": [
    {
     "name": "stdout",
     "output_type": "stream",
     "text": [
      "Model: \"model_2\"\n",
      "__________________________________________________________________________________________________\n",
      "Layer (type)                    Output Shape         Param #     Connected to                     \n",
      "==================================================================================================\n",
      "input_1 (InputLayer)            [(None, 9)]          0                                            \n",
      "__________________________________________________________________________________________________\n",
      "input_2 (InputLayer)            [(None, 4096)]       0                                            \n",
      "__________________________________________________________________________________________________\n",
      "dense (Dense)                   (None, 128)          1280        input_1[0][0]                    \n",
      "__________________________________________________________________________________________________\n",
      "dense_3 (Dense)                 (None, 1024)         4195328     input_2[0][0]                    \n",
      "__________________________________________________________________________________________________\n",
      "dense_1 (Dense)                 (None, 64)           8256        dense[0][0]                      \n",
      "__________________________________________________________________________________________________\n",
      "dense_4 (Dense)                 (None, 64)           65600       dense_3[0][0]                    \n",
      "__________________________________________________________________________________________________\n",
      "concatenate (Concatenate)       (None, 128)          0           dense_1[0][0]                    \n",
      "                                                                 dense_4[0][0]                    \n",
      "__________________________________________________________________________________________________\n",
      "dense_6 (Dense)                 (None, 3)            387         concatenate[0][0]                \n",
      "==================================================================================================\n",
      "Total params: 4,270,851\n",
      "Trainable params: 4,270,851\n",
      "Non-trainable params: 0\n",
      "__________________________________________________________________________________________________\n"
     ]
    }
   ],
   "source": [
    "model_combined.summary()"
   ]
  },
  {
   "cell_type": "code",
   "execution_count": 43,
   "metadata": {
    "id": "N60TxeUxOrLN"
   },
   "outputs": [],
   "source": [
    "model_combined.compile(optimizer = 'Adam', loss = 'categorical_crossentropy', metrics=['accuracy'])"
   ]
  },
  {
   "cell_type": "code",
   "execution_count": 44,
   "metadata": {
    "colab": {
     "base_uri": "https://localhost:8080/"
    },
    "id": "u59z7GMOOvnH",
    "outputId": "ea5faae3-4990-4a36-da60-03970a38754c"
   },
   "outputs": [
    {
     "name": "stdout",
     "output_type": "stream",
     "text": [
      "Epoch 1/100\n",
      "12/12 - 1s - loss: 29.1127 - accuracy: 0.5291 - val_loss: 2.3963 - val_accuracy: 0.6538\n",
      "Epoch 2/100\n",
      "12/12 - 0s - loss: 2.3831 - accuracy: 0.6427 - val_loss: 1.9394 - val_accuracy: 0.6603\n",
      "Epoch 3/100\n",
      "12/12 - 0s - loss: 1.3993 - accuracy: 0.7091 - val_loss: 2.5038 - val_accuracy: 0.6667\n",
      "Epoch 4/100\n",
      "12/12 - 0s - loss: 1.3597 - accuracy: 0.6787 - val_loss: 1.0558 - val_accuracy: 0.7821\n",
      "Epoch 5/100\n",
      "12/12 - 1s - loss: 0.8157 - accuracy: 0.7507 - val_loss: 0.8248 - val_accuracy: 0.8205\n",
      "Epoch 6/100\n",
      "12/12 - 0s - loss: 0.5563 - accuracy: 0.8227 - val_loss: 0.6815 - val_accuracy: 0.8526\n",
      "Epoch 7/100\n",
      "12/12 - 0s - loss: 0.5873 - accuracy: 0.7230 - val_loss: 1.5545 - val_accuracy: 0.6923\n",
      "Epoch 8/100\n",
      "12/12 - 0s - loss: 0.8836 - accuracy: 0.6870 - val_loss: 1.2518 - val_accuracy: 0.7115\n",
      "Epoch 9/100\n",
      "12/12 - 0s - loss: 1.1508 - accuracy: 0.6759 - val_loss: 0.7256 - val_accuracy: 0.7885\n",
      "Epoch 10/100\n",
      "12/12 - 1s - loss: 0.8587 - accuracy: 0.7368 - val_loss: 0.9945 - val_accuracy: 0.6090\n",
      "Epoch 11/100\n",
      "12/12 - 1s - loss: 0.5435 - accuracy: 0.8033 - val_loss: 0.6519 - val_accuracy: 0.7692\n",
      "Epoch 12/100\n",
      "12/12 - 0s - loss: 0.6262 - accuracy: 0.7341 - val_loss: 0.8200 - val_accuracy: 0.7500\n",
      "Epoch 13/100\n",
      "12/12 - 0s - loss: 0.5324 - accuracy: 0.8006 - val_loss: 0.5605 - val_accuracy: 0.8205\n",
      "Epoch 14/100\n",
      "12/12 - 0s - loss: 0.4591 - accuracy: 0.7895 - val_loss: 0.9506 - val_accuracy: 0.7179\n",
      "Epoch 15/100\n",
      "12/12 - 0s - loss: 0.4967 - accuracy: 0.7701 - val_loss: 0.9316 - val_accuracy: 0.7179\n",
      "Epoch 16/100\n",
      "12/12 - 1s - loss: 0.5728 - accuracy: 0.7729 - val_loss: 1.7279 - val_accuracy: 0.6859\n",
      "Epoch 17/100\n",
      "12/12 - 0s - loss: 0.9886 - accuracy: 0.7590 - val_loss: 0.9488 - val_accuracy: 0.6218\n",
      "Epoch 18/100\n",
      "12/12 - 0s - loss: 0.4736 - accuracy: 0.7535 - val_loss: 0.6292 - val_accuracy: 0.8462\n",
      "Epoch 19/100\n",
      "12/12 - 0s - loss: 0.3651 - accuracy: 0.8449 - val_loss: 0.9162 - val_accuracy: 0.7500\n",
      "Epoch 20/100\n",
      "12/12 - 0s - loss: 0.5414 - accuracy: 0.7784 - val_loss: 0.8941 - val_accuracy: 0.7436\n",
      "Epoch 21/100\n",
      "12/12 - 0s - loss: 0.4133 - accuracy: 0.8144 - val_loss: 0.7304 - val_accuracy: 0.7756\n",
      "Epoch 22/100\n",
      "12/12 - 1s - loss: 0.3673 - accuracy: 0.8255 - val_loss: 0.5544 - val_accuracy: 0.8526\n",
      "Epoch 23/100\n",
      "12/12 - 0s - loss: 0.2918 - accuracy: 0.8892 - val_loss: 0.5935 - val_accuracy: 0.8333\n",
      "Epoch 24/100\n",
      "12/12 - 0s - loss: 0.2987 - accuracy: 0.8670 - val_loss: 0.6402 - val_accuracy: 0.8077\n",
      "Epoch 25/100\n",
      "12/12 - 0s - loss: 0.3170 - accuracy: 0.8504 - val_loss: 0.5493 - val_accuracy: 0.7885\n",
      "Epoch 26/100\n",
      "12/12 - 0s - loss: 0.3004 - accuracy: 0.8643 - val_loss: 0.5246 - val_accuracy: 0.8654\n",
      "Epoch 27/100\n",
      "12/12 - 0s - loss: 0.3594 - accuracy: 0.8089 - val_loss: 1.0064 - val_accuracy: 0.7115\n",
      "Epoch 28/100\n",
      "12/12 - 1s - loss: 0.3395 - accuracy: 0.8781 - val_loss: 0.5084 - val_accuracy: 0.8654\n",
      "Epoch 29/100\n",
      "12/12 - 0s - loss: 0.2621 - accuracy: 0.8892 - val_loss: 0.4713 - val_accuracy: 0.8205\n",
      "Epoch 30/100\n",
      "12/12 - 0s - loss: 0.2699 - accuracy: 0.8975 - val_loss: 0.4508 - val_accuracy: 0.8462\n",
      "Epoch 31/100\n",
      "12/12 - 0s - loss: 0.2608 - accuracy: 0.8975 - val_loss: 0.4887 - val_accuracy: 0.8718\n",
      "Epoch 32/100\n",
      "12/12 - 0s - loss: 0.2687 - accuracy: 0.8837 - val_loss: 0.5012 - val_accuracy: 0.8654\n",
      "Epoch 33/100\n",
      "12/12 - 0s - loss: 0.2586 - accuracy: 0.8781 - val_loss: 0.4509 - val_accuracy: 0.8782\n",
      "Epoch 34/100\n",
      "12/12 - 1s - loss: 0.2783 - accuracy: 0.8726 - val_loss: 0.5885 - val_accuracy: 0.7692\n",
      "Epoch 35/100\n",
      "12/12 - 0s - loss: 0.4099 - accuracy: 0.8393 - val_loss: 0.9329 - val_accuracy: 0.6026\n",
      "Epoch 36/100\n",
      "12/12 - 0s - loss: 0.3930 - accuracy: 0.7867 - val_loss: 0.5519 - val_accuracy: 0.8205\n",
      "Epoch 37/100\n",
      "12/12 - 0s - loss: 0.3183 - accuracy: 0.8643 - val_loss: 0.4585 - val_accuracy: 0.8526\n",
      "Epoch 38/100\n",
      "12/12 - 0s - loss: 0.2519 - accuracy: 0.8975 - val_loss: 0.4439 - val_accuracy: 0.8910\n",
      "Epoch 39/100\n",
      "12/12 - 0s - loss: 0.2283 - accuracy: 0.9141 - val_loss: 0.4593 - val_accuracy: 0.8590\n",
      "Epoch 40/100\n",
      "12/12 - 1s - loss: 0.2718 - accuracy: 0.8670 - val_loss: 0.6434 - val_accuracy: 0.7436\n",
      "Epoch 41/100\n",
      "12/12 - 0s - loss: 0.3377 - accuracy: 0.8476 - val_loss: 0.4833 - val_accuracy: 0.7885\n",
      "Epoch 42/100\n",
      "12/12 - 0s - loss: 0.4352 - accuracy: 0.8116 - val_loss: 0.6487 - val_accuracy: 0.6987\n",
      "Epoch 43/100\n",
      "12/12 - 0s - loss: 0.2964 - accuracy: 0.8670 - val_loss: 0.4570 - val_accuracy: 0.8397\n",
      "Epoch 44/100\n",
      "12/12 - 0s - loss: 0.2661 - accuracy: 0.8920 - val_loss: 0.7435 - val_accuracy: 0.7564\n",
      "Epoch 45/100\n",
      "12/12 - 0s - loss: 0.5305 - accuracy: 0.7839 - val_loss: 1.1462 - val_accuracy: 0.7115\n",
      "Epoch 46/100\n",
      "12/12 - 1s - loss: 0.4591 - accuracy: 0.8227 - val_loss: 0.6426 - val_accuracy: 0.7628\n",
      "Epoch 47/100\n",
      "12/12 - 0s - loss: 0.3486 - accuracy: 0.8532 - val_loss: 0.6502 - val_accuracy: 0.6667\n",
      "Epoch 48/100\n",
      "12/12 - 0s - loss: 0.4148 - accuracy: 0.8199 - val_loss: 0.5289 - val_accuracy: 0.8013\n",
      "Epoch 49/100\n",
      "12/12 - 0s - loss: 0.4209 - accuracy: 0.8172 - val_loss: 0.5290 - val_accuracy: 0.8590\n",
      "Epoch 50/100\n",
      "12/12 - 0s - loss: 0.3704 - accuracy: 0.8587 - val_loss: 0.4450 - val_accuracy: 0.8718\n",
      "Epoch 51/100\n",
      "12/12 - 0s - loss: 0.3293 - accuracy: 0.8698 - val_loss: 1.2136 - val_accuracy: 0.6987\n",
      "Epoch 52/100\n",
      "12/12 - 1s - loss: 0.5954 - accuracy: 0.7590 - val_loss: 0.7908 - val_accuracy: 0.7628\n",
      "Epoch 53/100\n",
      "12/12 - 0s - loss: 0.4024 - accuracy: 0.8476 - val_loss: 0.5134 - val_accuracy: 0.8718\n",
      "Epoch 54/100\n",
      "12/12 - 0s - loss: 0.2369 - accuracy: 0.9030 - val_loss: 0.5294 - val_accuracy: 0.8462\n",
      "Epoch 55/100\n",
      "12/12 - 0s - loss: 0.2421 - accuracy: 0.9003 - val_loss: 0.5051 - val_accuracy: 0.8718\n",
      "Epoch 56/100\n",
      "12/12 - 0s - loss: 0.2147 - accuracy: 0.9169 - val_loss: 0.4644 - val_accuracy: 0.8910\n",
      "Epoch 57/100\n",
      "12/12 - 0s - loss: 0.2786 - accuracy: 0.8892 - val_loss: 0.4713 - val_accuracy: 0.8333\n",
      "Epoch 58/100\n",
      "12/12 - 1s - loss: 0.2382 - accuracy: 0.9224 - val_loss: 0.5330 - val_accuracy: 0.8654\n",
      "Epoch 59/100\n",
      "12/12 - 0s - loss: 0.3978 - accuracy: 0.8144 - val_loss: 1.0834 - val_accuracy: 0.7179\n",
      "Epoch 60/100\n",
      "12/12 - 0s - loss: 0.3331 - accuracy: 0.8615 - val_loss: 0.6565 - val_accuracy: 0.8205\n",
      "Epoch 61/100\n",
      "12/12 - 0s - loss: 0.2318 - accuracy: 0.9030 - val_loss: 0.5715 - val_accuracy: 0.8333\n",
      "Epoch 62/100\n",
      "12/12 - 0s - loss: 0.2152 - accuracy: 0.9252 - val_loss: 0.4518 - val_accuracy: 0.8974\n",
      "Epoch 63/100\n",
      "12/12 - 0s - loss: 0.2053 - accuracy: 0.9197 - val_loss: 0.4413 - val_accuracy: 0.8974\n",
      "Epoch 64/100\n",
      "12/12 - 1s - loss: 0.1973 - accuracy: 0.9058 - val_loss: 0.4373 - val_accuracy: 0.8782\n",
      "Epoch 65/100\n",
      "12/12 - 0s - loss: 0.2255 - accuracy: 0.9197 - val_loss: 0.6660 - val_accuracy: 0.7244\n",
      "Epoch 66/100\n",
      "12/12 - 0s - loss: 0.3578 - accuracy: 0.8532 - val_loss: 0.4821 - val_accuracy: 0.8974\n",
      "Epoch 67/100\n",
      "12/12 - 0s - loss: 0.3625 - accuracy: 0.8255 - val_loss: 0.8347 - val_accuracy: 0.7564\n",
      "Epoch 68/100\n",
      "12/12 - 0s - loss: 0.3511 - accuracy: 0.8393 - val_loss: 0.5092 - val_accuracy: 0.8782\n",
      "Epoch 69/100\n",
      "12/12 - 0s - loss: 0.4115 - accuracy: 0.8338 - val_loss: 1.2807 - val_accuracy: 0.6795\n",
      "Epoch 70/100\n",
      "12/12 - 1s - loss: 0.6161 - accuracy: 0.7922 - val_loss: 0.6176 - val_accuracy: 0.8205\n",
      "Epoch 71/100\n",
      "12/12 - 0s - loss: 0.4502 - accuracy: 0.8255 - val_loss: 0.4404 - val_accuracy: 0.8590\n",
      "Epoch 72/100\n",
      "12/12 - 0s - loss: 0.4513 - accuracy: 0.8089 - val_loss: 0.9016 - val_accuracy: 0.6474\n",
      "Epoch 73/100\n",
      "12/12 - 0s - loss: 0.4291 - accuracy: 0.8172 - val_loss: 0.9993 - val_accuracy: 0.6474\n",
      "Epoch 74/100\n",
      "12/12 - 0s - loss: 0.4802 - accuracy: 0.8089 - val_loss: 0.5150 - val_accuracy: 0.8205\n",
      "Epoch 75/100\n",
      "12/12 - 0s - loss: 0.2408 - accuracy: 0.9058 - val_loss: 0.4896 - val_accuracy: 0.8910\n",
      "Epoch 76/100\n",
      "12/12 - 1s - loss: 0.1850 - accuracy: 0.9224 - val_loss: 0.4582 - val_accuracy: 0.8462\n",
      "Epoch 77/100\n",
      "12/12 - 0s - loss: 0.2031 - accuracy: 0.9224 - val_loss: 0.4581 - val_accuracy: 0.8718\n",
      "Epoch 78/100\n",
      "12/12 - 0s - loss: 0.1923 - accuracy: 0.9252 - val_loss: 0.4434 - val_accuracy: 0.8782\n",
      "Epoch 79/100\n",
      "12/12 - 0s - loss: 0.2636 - accuracy: 0.8837 - val_loss: 0.5005 - val_accuracy: 0.8846\n",
      "Epoch 80/100\n",
      "12/12 - 0s - loss: 0.2771 - accuracy: 0.8809 - val_loss: 0.6692 - val_accuracy: 0.8333\n",
      "Epoch 81/100\n",
      "12/12 - 0s - loss: 0.2672 - accuracy: 0.8781 - val_loss: 0.5267 - val_accuracy: 0.8782\n",
      "Epoch 82/100\n",
      "12/12 - 1s - loss: 0.2064 - accuracy: 0.9224 - val_loss: 0.5344 - val_accuracy: 0.8782\n",
      "Epoch 83/100\n"
     ]
    },
    {
     "name": "stdout",
     "output_type": "stream",
     "text": [
      "12/12 - 0s - loss: 0.2109 - accuracy: 0.9141 - val_loss: 0.6120 - val_accuracy: 0.8462\n",
      "Epoch 84/100\n",
      "12/12 - 0s - loss: 0.2614 - accuracy: 0.9003 - val_loss: 0.4965 - val_accuracy: 0.8333\n",
      "Epoch 85/100\n",
      "12/12 - 0s - loss: 0.1948 - accuracy: 0.9252 - val_loss: 0.4744 - val_accuracy: 0.8910\n",
      "Epoch 86/100\n",
      "12/12 - 0s - loss: 0.2127 - accuracy: 0.9141 - val_loss: 0.6692 - val_accuracy: 0.7500\n",
      "Epoch 87/100\n",
      "12/12 - 0s - loss: 0.2586 - accuracy: 0.9003 - val_loss: 0.4986 - val_accuracy: 0.8910\n",
      "Epoch 88/100\n",
      "12/12 - 1s - loss: 0.2023 - accuracy: 0.9058 - val_loss: 0.4612 - val_accuracy: 0.8590\n",
      "Epoch 89/100\n",
      "12/12 - 0s - loss: 0.2149 - accuracy: 0.9169 - val_loss: 0.4977 - val_accuracy: 0.8782\n",
      "Epoch 90/100\n",
      "12/12 - 0s - loss: 0.2304 - accuracy: 0.8892 - val_loss: 0.4670 - val_accuracy: 0.8718\n",
      "Epoch 91/100\n",
      "12/12 - 0s - loss: 0.2022 - accuracy: 0.9169 - val_loss: 0.5059 - val_accuracy: 0.8397\n",
      "Epoch 92/100\n",
      "12/12 - 0s - loss: 0.2290 - accuracy: 0.9114 - val_loss: 0.6894 - val_accuracy: 0.8526\n",
      "Epoch 93/100\n",
      "12/12 - 1s - loss: 0.2368 - accuracy: 0.9141 - val_loss: 0.5006 - val_accuracy: 0.8846\n",
      "Epoch 94/100\n",
      "12/12 - 0s - loss: 0.3829 - accuracy: 0.8560 - val_loss: 0.6981 - val_accuracy: 0.7500\n",
      "Epoch 95/100\n",
      "12/12 - 0s - loss: 0.3218 - accuracy: 0.8670 - val_loss: 0.8268 - val_accuracy: 0.6731\n",
      "Epoch 96/100\n",
      "12/12 - 0s - loss: 0.2620 - accuracy: 0.9058 - val_loss: 0.5651 - val_accuracy: 0.8782\n",
      "Epoch 97/100\n",
      "12/12 - 0s - loss: 0.5196 - accuracy: 0.8172 - val_loss: 1.2202 - val_accuracy: 0.7372\n",
      "Epoch 98/100\n",
      "12/12 - 0s - loss: 0.6108 - accuracy: 0.7895 - val_loss: 0.5041 - val_accuracy: 0.8397\n",
      "Epoch 99/100\n",
      "12/12 - 1s - loss: 0.2138 - accuracy: 0.9058 - val_loss: 0.5058 - val_accuracy: 0.8590\n",
      "Epoch 100/100\n",
      "12/12 - 0s - loss: 0.2065 - accuracy: 0.9418 - val_loss: 0.4758 - val_accuracy: 0.8910\n"
     ]
    }
   ],
   "source": [
    "MultiModel = model_combined.fit([x_train_s, final_image_train],y_train_final, validation_data=([x_test_s, final_image_test],y_test_final), epochs= 100, verbose= 2)"
   ]
  },
  {
   "cell_type": "code",
   "execution_count": 45,
   "metadata": {},
   "outputs": [],
   "source": [
    "y_pred_multi = model_combined.predict([x_test_s, final_image_test])"
   ]
  },
  {
   "cell_type": "code",
   "execution_count": 46,
   "metadata": {},
   "outputs": [],
   "source": [
    "y_classes_act_multi = [np.argmax(y, axis=None, out=None) for y in y_test_final]\n",
    "y_classes_pred_multi = [np.argmax(y, axis=None, out=None) for y in y_pred_multi]"
   ]
  },
  {
   "cell_type": "code",
   "execution_count": 47,
   "metadata": {},
   "outputs": [
    {
     "data": {
      "text/plain": [
       "array([[67,  0,  2],\n",
       "       [ 1, 33,  0],\n",
       "       [14,  0, 39]], dtype=int64)"
      ]
     },
     "execution_count": 47,
     "metadata": {},
     "output_type": "execute_result"
    }
   ],
   "source": [
    "# Importing the dependancies\n",
    "from sklearn.metrics import classification_report, confusion_matrix\n",
    "\n",
    "\n",
    "confusion_matrix(y_classes_act_multi, y_classes_pred_multi)"
   ]
  },
  {
   "cell_type": "code",
   "execution_count": 48,
   "metadata": {},
   "outputs": [
    {
     "data": {
      "text/plain": [
       "0.5150417215634607"
      ]
     },
     "execution_count": 48,
     "metadata": {},
     "output_type": "execute_result"
    }
   ],
   "source": [
    "precision_score(y_classes_act_img, y_classes_pred_img, average='macro')      "
   ]
  },
  {
   "cell_type": "code",
   "execution_count": 49,
   "metadata": {},
   "outputs": [
    {
     "data": {
      "text/plain": [
       "0.504280998910155"
      ]
     },
     "execution_count": 49,
     "metadata": {},
     "output_type": "execute_result"
    }
   ],
   "source": [
    "f1_score(y_classes_act_img, y_classes_pred_img, average='macro') "
   ]
  },
  {
   "cell_type": "code",
   "execution_count": 50,
   "metadata": {},
   "outputs": [
    {
     "data": {
      "text/plain": [
       "0.517682982408167"
      ]
     },
     "execution_count": 50,
     "metadata": {},
     "output_type": "execute_result"
    }
   ],
   "source": [
    "recall_score(y_classes_act_img, y_classes_pred_img, average='macro')"
   ]
  },
  {
   "cell_type": "code",
   "execution_count": 51,
   "metadata": {},
   "outputs": [
    {
     "data": {
      "image/png": "[encoded data removed]",
      "text/plain": [
       "<Figure size 432x288 with 1 Axes>"
      ]
     },
     "metadata": {
      "needs_background": "light"
     },
     "output_type": "display_data"
    }
   ],
   "source": [
    "from keras.models import Sequential\n",
    "train_loss = MultiModel.history['loss']\n",
    "val_loss   = MultiModel.history['val_loss']\n",
    "train_acc  = MultiModel.history['accuracy']\n",
    "val_acc    = MultiModel.history['val_accuracy']\n",
    "xc         = range(100)\n",
    "\n",
    "plt.plot(xc, train_loss, label = \"Traning Loss\")\n",
    "plt.plot(xc, val_loss,label=\"Validation Loss\")\n",
    "plt.legend()\n",
    "plt.savefig('multiloss.png')\n",
    "\n",
    "plt.show()\n"
   ]
  },
  {
   "cell_type": "code",
   "execution_count": 52,
   "metadata": {},
   "outputs": [
    {
     "data": {
      "image/png": "[encoded data removed]",
      "text/plain": [
       "<Figure size 432x288 with 1 Axes>"
      ]
     },
     "metadata": {
      "needs_background": "light"
     },
     "output_type": "display_data"
    }
   ],
   "source": [
    "from keras.models import Sequential\n",
    "train_loss = MultiModel.history['loss']\n",
    "val_loss   = MultiModel.history['val_loss']\n",
    "train_acc  = MultiModel.history['accuracy']\n",
    "val_acc    = MultiModel.history['val_accuracy']\n",
    "xc         = range(100)\n",
    "\n",
    "plt.plot(xc, train_acc, label = \"Traning Accuracy\")\n",
    "plt.plot(xc, val_acc,label=\"Validation Accuracy\")\n",
    "plt.legend()\n",
    "plt.savefig('multiacc.png')\n",
    "\n",
    "plt.show()\n"
   ]
  },
  {
   "cell_type": "markdown",
   "metadata": {
    "id": "uFnS0p36Lgge"
   },
   "source": []
  }
 ],
 "metadata": {
  "colab": {
   "collapsed_sections": [],
   "name": "Raj_vikram.ipynb",
   "provenance": []
  },
  "kernelspec": {
   "display_name": "Python 3",
   "language": "python",
   "name": "python3"
  },
  "language_info": {
   "codemirror_mode": {
    "name": "ipython",
    "version": 3
   },
   "file_extension": ".py",
   "mimetype": "text/x-python",
   "name": "python",
   "nbconvert_exporter": "python",
   "pygments_lexer": "ipython3",
   "version": "3.8.8"
  }
 },
 "nbformat": 4,
 "nbformat_minor": 1
}
